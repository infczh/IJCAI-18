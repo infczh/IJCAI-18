{
 "cells": [
  {
   "cell_type": "code",
   "execution_count": 1,
   "metadata": {},
   "outputs": [],
   "source": [
    "import pandas as pd\n",
    "#import matplotlib.pyplot as plt\n",
    "#import seaborn as sns\n",
    "#import warnings\n",
    "#warnings.filterwarnings(action='ignore', category=UserWarning, module='gensim')\n",
    "#import gensim\n",
    "#from gensim.models.doc2vec import Doc2Vec, LabeledSentence \n",
    "import numpy as np\n",
    "import copy\n",
    "#%matplotlib inline"
   ]
  },
  {
   "cell_type": "code",
   "execution_count": 2,
   "metadata": {},
   "outputs": [],
   "source": [
    "def load_data():\n",
    "    train_ori = pd.read_table(\"round1_ijcai_18_train_20180301.txt\",delim_whitespace=True)\n",
    "    test_ori = pd.read_table('round1_ijcai_18_test_a_20180301.txt',delim_whitespace = True)\n",
    "    return train_ori, test_ori"
   ]
  },
  {
   "cell_type": "code",
   "execution_count": 3,
   "metadata": {},
   "outputs": [],
   "source": [
    "train_ori, test_ori = load_data()\n",
    "train_ori = train_ori.drop_duplicates()#训练集去重\n",
    "train_1 = train_ori.copy(deep = True)\n",
    "test_1 = test_ori.copy(deep = True)"
   ]
  },
  {
   "cell_type": "code",
   "execution_count": 4,
   "metadata": {},
   "outputs": [
    {
     "name": "stdout",
     "output_type": "stream",
     "text": [
      "(18371, 26)\n",
      "(18371, 26)\n",
      "(478111, 27)\n",
      "(478111, 27)\n"
     ]
    }
   ],
   "source": [
    "print(test_ori.shape)\n",
    "print(test_1.shape)\n",
    "print(train_ori.shape)\n",
    "print(train_1.shape)"
   ]
  },
  {
   "cell_type": "code",
   "execution_count": 5,
   "metadata": {},
   "outputs": [],
   "source": [
    "train_y = train_1[\"is_trade\"]\n",
    "train_1 = train_1.drop(\"is_trade\",axis = 1)"
   ]
  },
  {
   "cell_type": "code",
   "execution_count": 27,
   "metadata": {},
   "outputs": [
    {
     "name": "stdout",
     "output_type": "stream",
     "text": [
      "(496482, 26)\n"
     ]
    }
   ],
   "source": [
    "data = pd.concat([train_1,test_1])\n",
    "data = data.reset_index(drop = True)\n",
    "print(data.shape)"
   ]
  },
  {
   "cell_type": "code",
   "execution_count": 28,
   "metadata": {},
   "outputs": [
    {
     "data": {
      "text/plain": [
       "instance_id                  0\n",
       "item_id                      0\n",
       "item_category_list           0\n",
       "item_property_list           0\n",
       "item_brand_id                0\n",
       "item_city_id                 0\n",
       "item_price_level             0\n",
       "item_sales_level             0\n",
       "item_collected_level         0\n",
       "item_pv_level                0\n",
       "user_id                      0\n",
       "user_gender_id               0\n",
       "user_age_level               0\n",
       "user_occupation_id           0\n",
       "user_star_level              0\n",
       "context_id                   0\n",
       "context_timestamp            0\n",
       "context_page_id              0\n",
       "predict_category_property    0\n",
       "shop_id                      0\n",
       "shop_review_num_level        0\n",
       "shop_review_positive_rate    0\n",
       "shop_star_level              0\n",
       "shop_score_service           0\n",
       "shop_score_delivery          0\n",
       "shop_score_description       0\n",
       "dtype: int64"
      ]
     },
     "execution_count": 28,
     "metadata": {},
     "output_type": "execute_result"
    }
   ],
   "source": [
    "data.isnull().sum()#无缺失值"
   ]
  },
  {
   "cell_type": "markdown",
   "metadata": {},
   "source": [
    "# 处理item_category_list这个feature"
   ]
  },
  {
   "cell_type": "code",
   "execution_count": 29,
   "metadata": {},
   "outputs": [
    {
     "data": {
      "text/html": [
       "<div>\n",
       "<style>\n",
       "    .dataframe thead tr:only-child th {\n",
       "        text-align: right;\n",
       "    }\n",
       "\n",
       "    .dataframe thead th {\n",
       "        text-align: left;\n",
       "    }\n",
       "\n",
       "    .dataframe tbody tr th {\n",
       "        vertical-align: top;\n",
       "    }\n",
       "</style>\n",
       "<table border=\"1\" class=\"dataframe\">\n",
       "  <thead>\n",
       "    <tr style=\"text-align: right;\">\n",
       "      <th></th>\n",
       "      <th>instance_id</th>\n",
       "      <th>item_id</th>\n",
       "      <th>item_category_list</th>\n",
       "      <th>item_property_list</th>\n",
       "      <th>item_brand_id</th>\n",
       "      <th>item_city_id</th>\n",
       "      <th>item_price_level</th>\n",
       "      <th>item_sales_level</th>\n",
       "      <th>item_collected_level</th>\n",
       "      <th>item_pv_level</th>\n",
       "      <th>...</th>\n",
       "      <th>context_timestamp</th>\n",
       "      <th>context_page_id</th>\n",
       "      <th>predict_category_property</th>\n",
       "      <th>shop_id</th>\n",
       "      <th>shop_review_num_level</th>\n",
       "      <th>shop_review_positive_rate</th>\n",
       "      <th>shop_star_level</th>\n",
       "      <th>shop_score_service</th>\n",
       "      <th>shop_score_delivery</th>\n",
       "      <th>shop_score_description</th>\n",
       "    </tr>\n",
       "  </thead>\n",
       "  <tbody>\n",
       "    <tr>\n",
       "      <th>0</th>\n",
       "      <td>108641074714126964</td>\n",
       "      <td>3412720377098676069</td>\n",
       "      <td>7908382889764677758;5799347067982556520</td>\n",
       "      <td>2072967855524022579;5131280576272319091;263639...</td>\n",
       "      <td>1975590437749032870</td>\n",
       "      <td>3948283326616421003</td>\n",
       "      <td>3</td>\n",
       "      <td>3</td>\n",
       "      <td>4</td>\n",
       "      <td>14</td>\n",
       "      <td>...</td>\n",
       "      <td>1537236544</td>\n",
       "      <td>4006</td>\n",
       "      <td>5799347067982556520:-1;509660095530134768:-1;5...</td>\n",
       "      <td>6765930309048922341</td>\n",
       "      <td>4</td>\n",
       "      <td>1.0</td>\n",
       "      <td>5002</td>\n",
       "      <td>1.0</td>\n",
       "      <td>1.0</td>\n",
       "      <td>1.0</td>\n",
       "    </tr>\n",
       "    <tr>\n",
       "      <th>1</th>\n",
       "      <td>5754713551599725161</td>\n",
       "      <td>3412720377098676069</td>\n",
       "      <td>7908382889764677758;5799347067982556520</td>\n",
       "      <td>2072967855524022579;5131280576272319091;263639...</td>\n",
       "      <td>1975590437749032870</td>\n",
       "      <td>3948283326616421003</td>\n",
       "      <td>3</td>\n",
       "      <td>3</td>\n",
       "      <td>4</td>\n",
       "      <td>14</td>\n",
       "      <td>...</td>\n",
       "      <td>1537243232</td>\n",
       "      <td>4001</td>\n",
       "      <td>5799347067982556520:9172976955054793469;790838...</td>\n",
       "      <td>6765930309048922341</td>\n",
       "      <td>4</td>\n",
       "      <td>1.0</td>\n",
       "      <td>5002</td>\n",
       "      <td>1.0</td>\n",
       "      <td>1.0</td>\n",
       "      <td>1.0</td>\n",
       "    </tr>\n",
       "    <tr>\n",
       "      <th>2</th>\n",
       "      <td>842679481291040981</td>\n",
       "      <td>3412720377098676069</td>\n",
       "      <td>7908382889764677758;5799347067982556520</td>\n",
       "      <td>2072967855524022579;5131280576272319091;263639...</td>\n",
       "      <td>1975590437749032870</td>\n",
       "      <td>3948283326616421003</td>\n",
       "      <td>3</td>\n",
       "      <td>3</td>\n",
       "      <td>4</td>\n",
       "      <td>14</td>\n",
       "      <td>...</td>\n",
       "      <td>1537211052</td>\n",
       "      <td>4001</td>\n",
       "      <td>5799347067982556520:5131280576272319091;725801...</td>\n",
       "      <td>6765930309048922341</td>\n",
       "      <td>4</td>\n",
       "      <td>1.0</td>\n",
       "      <td>5002</td>\n",
       "      <td>1.0</td>\n",
       "      <td>1.0</td>\n",
       "      <td>1.0</td>\n",
       "    </tr>\n",
       "  </tbody>\n",
       "</table>\n",
       "<p>3 rows × 26 columns</p>\n",
       "</div>"
      ],
      "text/plain": [
       "           instance_id              item_id  \\\n",
       "0   108641074714126964  3412720377098676069   \n",
       "1  5754713551599725161  3412720377098676069   \n",
       "2   842679481291040981  3412720377098676069   \n",
       "\n",
       "                        item_category_list  \\\n",
       "0  7908382889764677758;5799347067982556520   \n",
       "1  7908382889764677758;5799347067982556520   \n",
       "2  7908382889764677758;5799347067982556520   \n",
       "\n",
       "                                  item_property_list        item_brand_id  \\\n",
       "0  2072967855524022579;5131280576272319091;263639...  1975590437749032870   \n",
       "1  2072967855524022579;5131280576272319091;263639...  1975590437749032870   \n",
       "2  2072967855524022579;5131280576272319091;263639...  1975590437749032870   \n",
       "\n",
       "          item_city_id  item_price_level  item_sales_level  \\\n",
       "0  3948283326616421003                 3                 3   \n",
       "1  3948283326616421003                 3                 3   \n",
       "2  3948283326616421003                 3                 3   \n",
       "\n",
       "   item_collected_level  item_pv_level           ...            \\\n",
       "0                     4             14           ...             \n",
       "1                     4             14           ...             \n",
       "2                     4             14           ...             \n",
       "\n",
       "   context_timestamp  context_page_id  \\\n",
       "0         1537236544             4006   \n",
       "1         1537243232             4001   \n",
       "2         1537211052             4001   \n",
       "\n",
       "                           predict_category_property              shop_id  \\\n",
       "0  5799347067982556520:-1;509660095530134768:-1;5...  6765930309048922341   \n",
       "1  5799347067982556520:9172976955054793469;790838...  6765930309048922341   \n",
       "2  5799347067982556520:5131280576272319091;725801...  6765930309048922341   \n",
       "\n",
       "   shop_review_num_level  shop_review_positive_rate  shop_star_level  \\\n",
       "0                      4                        1.0             5002   \n",
       "1                      4                        1.0             5002   \n",
       "2                      4                        1.0             5002   \n",
       "\n",
       "   shop_score_service shop_score_delivery  shop_score_description  \n",
       "0                 1.0                 1.0                     1.0  \n",
       "1                 1.0                 1.0                     1.0  \n",
       "2                 1.0                 1.0                     1.0  \n",
       "\n",
       "[3 rows x 26 columns]"
      ]
     },
     "execution_count": 29,
     "metadata": {},
     "output_type": "execute_result"
    }
   ],
   "source": [
    "data.head(3)"
   ]
  },
  {
   "cell_type": "code",
   "execution_count": 30,
   "metadata": {},
   "outputs": [],
   "source": [
    "cate_list = list(data['item_category_list'])"
   ]
  },
  {
   "cell_type": "code",
   "execution_count": 31,
   "metadata": {},
   "outputs": [
    {
     "data": {
      "text/plain": [
       "['7908382889764677758', '7908382889764677758', '7908382889764677758']"
      ]
     },
     "execution_count": 31,
     "metadata": {},
     "output_type": "execute_result"
    }
   ],
   "source": [
    "#分号前的category1\n",
    "cate_1_list = []\n",
    "for i in range(len(cate_list)):\n",
    "    cate_1_list.append(cate_list[i].split(\";\")[0])\n",
    "cate_1_list[:3]"
   ]
  },
  {
   "cell_type": "code",
   "execution_count": 32,
   "metadata": {},
   "outputs": [
    {
     "data": {
      "text/plain": [
       "{'7908382889764677758'}"
      ]
     },
     "execution_count": 32,
     "metadata": {},
     "output_type": "execute_result"
    }
   ],
   "source": [
    "set(cate_1_list)#发现所有样本都一样 因此去掉该子字段的信息"
   ]
  },
  {
   "cell_type": "code",
   "execution_count": 33,
   "metadata": {},
   "outputs": [
    {
     "data": {
      "text/plain": [
       "['5799347067982556520', '5799347067982556520', '5799347067982556520']"
      ]
     },
     "execution_count": 33,
     "metadata": {},
     "output_type": "execute_result"
    }
   ],
   "source": [
    "#分号后的category2\n",
    "cate_2_list = []\n",
    "for i in range(len(cate_list)):\n",
    "    cate_2_list.append(cate_list[i].split(\";\")[1])\n",
    "cate_2_list[:3]"
   ]
  },
  {
   "cell_type": "code",
   "execution_count": 34,
   "metadata": {},
   "outputs": [
    {
     "data": {
      "text/plain": [
       "{'1968056100269760729',\n",
       " '2011981573061447208',\n",
       " '22731265849056483',\n",
       " '2436715285093487584',\n",
       " '2642175453151805566',\n",
       " '3203673979138763595',\n",
       " '4879721024980945592',\n",
       " '509660095530134768',\n",
       " '5755694407684602296',\n",
       " '5799347067982556520',\n",
       " '7258015885215914736',\n",
       " '8277336076276184272',\n",
       " '8710739180200009128'}"
      ]
     },
     "execution_count": 34,
     "metadata": {},
     "output_type": "execute_result"
    }
   ],
   "source": [
    "set(cate_2_list)#有区别 因此用该子字段的信息代替原来的feature"
   ]
  },
  {
   "cell_type": "code",
   "execution_count": 35,
   "metadata": {},
   "outputs": [],
   "source": [
    "data[\"item_category_list\"] = cate_2_list"
   ]
  },
  {
   "cell_type": "code",
   "execution_count": 36,
   "metadata": {},
   "outputs": [
    {
     "data": {
      "text/html": [
       "<div>\n",
       "<style>\n",
       "    .dataframe thead tr:only-child th {\n",
       "        text-align: right;\n",
       "    }\n",
       "\n",
       "    .dataframe thead th {\n",
       "        text-align: left;\n",
       "    }\n",
       "\n",
       "    .dataframe tbody tr th {\n",
       "        vertical-align: top;\n",
       "    }\n",
       "</style>\n",
       "<table border=\"1\" class=\"dataframe\">\n",
       "  <thead>\n",
       "    <tr style=\"text-align: right;\">\n",
       "      <th></th>\n",
       "      <th>instance_id</th>\n",
       "      <th>item_id</th>\n",
       "      <th>item_category_list</th>\n",
       "      <th>item_property_list</th>\n",
       "      <th>item_brand_id</th>\n",
       "      <th>item_city_id</th>\n",
       "      <th>item_price_level</th>\n",
       "      <th>item_sales_level</th>\n",
       "      <th>item_collected_level</th>\n",
       "      <th>item_pv_level</th>\n",
       "      <th>...</th>\n",
       "      <th>context_timestamp</th>\n",
       "      <th>context_page_id</th>\n",
       "      <th>predict_category_property</th>\n",
       "      <th>shop_id</th>\n",
       "      <th>shop_review_num_level</th>\n",
       "      <th>shop_review_positive_rate</th>\n",
       "      <th>shop_star_level</th>\n",
       "      <th>shop_score_service</th>\n",
       "      <th>shop_score_delivery</th>\n",
       "      <th>shop_score_description</th>\n",
       "    </tr>\n",
       "  </thead>\n",
       "  <tbody>\n",
       "    <tr>\n",
       "      <th>0</th>\n",
       "      <td>108641074714126964</td>\n",
       "      <td>3412720377098676069</td>\n",
       "      <td>5799347067982556520</td>\n",
       "      <td>2072967855524022579;5131280576272319091;263639...</td>\n",
       "      <td>1975590437749032870</td>\n",
       "      <td>3948283326616421003</td>\n",
       "      <td>3</td>\n",
       "      <td>3</td>\n",
       "      <td>4</td>\n",
       "      <td>14</td>\n",
       "      <td>...</td>\n",
       "      <td>1537236544</td>\n",
       "      <td>4006</td>\n",
       "      <td>5799347067982556520:-1;509660095530134768:-1;5...</td>\n",
       "      <td>6765930309048922341</td>\n",
       "      <td>4</td>\n",
       "      <td>1.0</td>\n",
       "      <td>5002</td>\n",
       "      <td>1.0</td>\n",
       "      <td>1.0</td>\n",
       "      <td>1.0</td>\n",
       "    </tr>\n",
       "    <tr>\n",
       "      <th>1</th>\n",
       "      <td>5754713551599725161</td>\n",
       "      <td>3412720377098676069</td>\n",
       "      <td>5799347067982556520</td>\n",
       "      <td>2072967855524022579;5131280576272319091;263639...</td>\n",
       "      <td>1975590437749032870</td>\n",
       "      <td>3948283326616421003</td>\n",
       "      <td>3</td>\n",
       "      <td>3</td>\n",
       "      <td>4</td>\n",
       "      <td>14</td>\n",
       "      <td>...</td>\n",
       "      <td>1537243232</td>\n",
       "      <td>4001</td>\n",
       "      <td>5799347067982556520:9172976955054793469;790838...</td>\n",
       "      <td>6765930309048922341</td>\n",
       "      <td>4</td>\n",
       "      <td>1.0</td>\n",
       "      <td>5002</td>\n",
       "      <td>1.0</td>\n",
       "      <td>1.0</td>\n",
       "      <td>1.0</td>\n",
       "    </tr>\n",
       "    <tr>\n",
       "      <th>2</th>\n",
       "      <td>842679481291040981</td>\n",
       "      <td>3412720377098676069</td>\n",
       "      <td>5799347067982556520</td>\n",
       "      <td>2072967855524022579;5131280576272319091;263639...</td>\n",
       "      <td>1975590437749032870</td>\n",
       "      <td>3948283326616421003</td>\n",
       "      <td>3</td>\n",
       "      <td>3</td>\n",
       "      <td>4</td>\n",
       "      <td>14</td>\n",
       "      <td>...</td>\n",
       "      <td>1537211052</td>\n",
       "      <td>4001</td>\n",
       "      <td>5799347067982556520:5131280576272319091;725801...</td>\n",
       "      <td>6765930309048922341</td>\n",
       "      <td>4</td>\n",
       "      <td>1.0</td>\n",
       "      <td>5002</td>\n",
       "      <td>1.0</td>\n",
       "      <td>1.0</td>\n",
       "      <td>1.0</td>\n",
       "    </tr>\n",
       "  </tbody>\n",
       "</table>\n",
       "<p>3 rows × 26 columns</p>\n",
       "</div>"
      ],
      "text/plain": [
       "           instance_id              item_id   item_category_list  \\\n",
       "0   108641074714126964  3412720377098676069  5799347067982556520   \n",
       "1  5754713551599725161  3412720377098676069  5799347067982556520   \n",
       "2   842679481291040981  3412720377098676069  5799347067982556520   \n",
       "\n",
       "                                  item_property_list        item_brand_id  \\\n",
       "0  2072967855524022579;5131280576272319091;263639...  1975590437749032870   \n",
       "1  2072967855524022579;5131280576272319091;263639...  1975590437749032870   \n",
       "2  2072967855524022579;5131280576272319091;263639...  1975590437749032870   \n",
       "\n",
       "          item_city_id  item_price_level  item_sales_level  \\\n",
       "0  3948283326616421003                 3                 3   \n",
       "1  3948283326616421003                 3                 3   \n",
       "2  3948283326616421003                 3                 3   \n",
       "\n",
       "   item_collected_level  item_pv_level           ...            \\\n",
       "0                     4             14           ...             \n",
       "1                     4             14           ...             \n",
       "2                     4             14           ...             \n",
       "\n",
       "   context_timestamp  context_page_id  \\\n",
       "0         1537236544             4006   \n",
       "1         1537243232             4001   \n",
       "2         1537211052             4001   \n",
       "\n",
       "                           predict_category_property              shop_id  \\\n",
       "0  5799347067982556520:-1;509660095530134768:-1;5...  6765930309048922341   \n",
       "1  5799347067982556520:9172976955054793469;790838...  6765930309048922341   \n",
       "2  5799347067982556520:5131280576272319091;725801...  6765930309048922341   \n",
       "\n",
       "   shop_review_num_level  shop_review_positive_rate  shop_star_level  \\\n",
       "0                      4                        1.0             5002   \n",
       "1                      4                        1.0             5002   \n",
       "2                      4                        1.0             5002   \n",
       "\n",
       "   shop_score_service shop_score_delivery  shop_score_description  \n",
       "0                 1.0                 1.0                     1.0  \n",
       "1                 1.0                 1.0                     1.0  \n",
       "2                 1.0                 1.0                     1.0  \n",
       "\n",
       "[3 rows x 26 columns]"
      ]
     },
     "execution_count": 36,
     "metadata": {},
     "output_type": "execute_result"
    }
   ],
   "source": [
    "data.head(3)"
   ]
  },
  {
   "cell_type": "markdown",
   "metadata": {},
   "source": [
    "# item_property_list这个feature与pred_property这个集合取交集 再除以真实property_list集合的势"
   ]
  },
  {
   "cell_type": "code",
   "execution_count": 37,
   "metadata": {},
   "outputs": [
    {
     "data": {
      "text/plain": [
       "Index(['instance_id', 'item_id', 'item_category_list', 'item_property_list',\n",
       "       'item_brand_id', 'item_city_id', 'item_price_level', 'item_sales_level',\n",
       "       'item_collected_level', 'item_pv_level', 'user_id', 'user_gender_id',\n",
       "       'user_age_level', 'user_occupation_id', 'user_star_level', 'context_id',\n",
       "       'context_timestamp', 'context_page_id', 'predict_category_property',\n",
       "       'shop_id', 'shop_review_num_level', 'shop_review_positive_rate',\n",
       "       'shop_star_level', 'shop_score_service', 'shop_score_delivery',\n",
       "       'shop_score_description'],\n",
       "      dtype='object')"
      ]
     },
     "execution_count": 37,
     "metadata": {},
     "output_type": "execute_result"
    }
   ],
   "source": [
    "data.columns"
   ]
  },
  {
   "cell_type": "code",
   "execution_count": 38,
   "metadata": {},
   "outputs": [
    {
     "name": "stdout",
     "output_type": "stream",
     "text": [
      "[['5799347067982556520', '509660095530134768', '5755694407684602296', '8277336076276184272', '7908382889764677758'], ['5799347067982556520', '7908382889764677758'], ['5799347067982556520', '7258015885215914736', '7908382889764677758']]\n",
      "======================\n",
      "[['-1', '9148482949976129397'], ['1787573075717641245', '5195139481388729954', '9148482949976129397', '9172976955054793469', '4621934203383159480'], ['5131280576272319091']]\n"
     ]
    }
   ],
   "source": [
    "pred_cate_prop_list = list(data['predict_category_property'])\n",
    "#用；分解每个cate：property\n",
    "pcp_list = []\n",
    "for i in pred_cate_prop_list:\n",
    "    pcp_list.append(i.split(';'))\n",
    "#再用：将cate，property分开\n",
    "pcp_list_2 = []\n",
    "for i in pcp_list:\n",
    "    tmp = []\n",
    "    for k in i:\n",
    "        tmp.append(k.split(\":\"))\n",
    "    pcp_list_2.append(tmp)\n",
    "#每一行的category\n",
    "each_category_list = []\n",
    "for i in pcp_list_2:\n",
    "    tmp = []\n",
    "    for k in i:\n",
    "        tmp.append(k[0])\n",
    "    each_category_list.append(tmp)\n",
    "#每一行的property\n",
    "each_property_list = []\n",
    "for i in pcp_list_2:\n",
    "    tmp = []\n",
    "    for k in i:\n",
    "        tmp.extend(k[1:])\n",
    "    each_property_list.append(tmp)\n",
    "def property_clean(doc):\n",
    "    doc_trans = []\n",
    "    for i in range(len(doc)):\n",
    "        temp = []\n",
    "        for j in range(len(doc[i])):\n",
    "            for k in range(len(doc[i][j].split(\",\"))):\n",
    "                temp.append(doc[i][j].split(\",\")[k])\n",
    "        doc_trans.append(temp)\n",
    "    return doc_trans\n",
    "property_clean_1 = property_clean(each_property_list)\n",
    "each_property_list_prep = [list(set(x)) for x in property_clean_1]\n",
    "print(each_category_list[:3])\n",
    "print(\"======================\")\n",
    "print(each_property_list_prep[:3])"
   ]
  },
  {
   "cell_type": "code",
   "execution_count": 39,
   "metadata": {},
   "outputs": [],
   "source": [
    "lenth_cate_pred = []\n",
    "for i in range(len(each_category_list)):\n",
    "    lenth_cate_pred.append(len(each_category_list[i]))\n",
    "lenth_prop_pred = []\n",
    "for i in range(len(each_property_list_prep)):\n",
    "    lenth_prop_pred.append(len(each_property_list_prep[i]))"
   ]
  },
  {
   "cell_type": "code",
   "execution_count": 40,
   "metadata": {},
   "outputs": [],
   "source": [
    "data['lenth_cate_pred'] = lenth_cate_pred\n",
    "data['lenth_prop_pred'] = lenth_prop_pred"
   ]
  },
  {
   "cell_type": "code",
   "execution_count": 41,
   "metadata": {},
   "outputs": [],
   "source": [
    "union_property = []\n",
    "for i in range(len(data)):\n",
    "    union_property.append(len((set(data.loc[i,\"item_property_list\"].split(\";\"))) & \\\n",
    "     set(each_property_list_prep[i]))/len(set(data.loc[i,\"item_property_list\"].split(\";\"))))"
   ]
  },
  {
   "cell_type": "code",
   "execution_count": 44,
   "metadata": {},
   "outputs": [],
   "source": [
    "lenth_prop = []\n",
    "for i in range(len(data)):\n",
    "    lenth_prop.append(len(set(data.loc[i,\"item_property_list\"].split(\";\"))))"
   ]
  },
  {
   "cell_type": "code",
   "execution_count": 45,
   "metadata": {},
   "outputs": [],
   "source": [
    "data[\"union_property\"] = union_property\n",
    "data[\"lenth_prop\"] = lenth_prop"
   ]
  },
  {
   "cell_type": "code",
   "execution_count": 46,
   "metadata": {},
   "outputs": [],
   "source": [
    "union_category = []\n",
    "for i in range(len(data)):\n",
    "    union_category.append(len((set([data.loc[i,\"item_category_list\"]])) & \\\n",
    "     set(each_category_list[i])))"
   ]
  },
  {
   "cell_type": "code",
   "execution_count": 47,
   "metadata": {},
   "outputs": [],
   "source": [
    "lenth_cate = []\n",
    "for i in range(len(data)):\n",
    "    lenth_cate.append(len(set(data.loc[i,\"item_category_list\"].split(\";\"))))"
   ]
  },
  {
   "cell_type": "code",
   "execution_count": 48,
   "metadata": {},
   "outputs": [],
   "source": [
    "data[\"union_category\"] = union_category\n",
    "data[\"lenth_cate\"] = lenth_cate"
   ]
  },
  {
   "cell_type": "code",
   "execution_count": 49,
   "metadata": {},
   "outputs": [],
   "source": [
    "# #分号分割后的所有属性放到一起\n",
    "# property_list_all = []\n",
    "# for i in range(len(property_list)):\n",
    "#     for j in range(len(property_list[i].split(\";\"))):\n",
    "#         property_list_all.append(property_list[i].split(\";\")[j])\n",
    "# #看看有多少种不同的属性\n",
    "# property_distinct = list(set(property_list_all))\n",
    "# print(len(property_distinct))"
   ]
  },
  {
   "cell_type": "code",
   "execution_count": 50,
   "metadata": {},
   "outputs": [],
   "source": [
    "# #将原始的数据转换成doc2vec可用的lists of list的格式\n",
    "# property_list_pre = []\n",
    "# for i in range(len(property_list)):\n",
    "#     temp = []\n",
    "#     temp.append(property_list[i])\n",
    "#     property_list_pre.append(temp)\n",
    "# pre_process = [[word for word in document[0].split(';')] for document in property_list_pre]"
   ]
  },
  {
   "cell_type": "code",
   "execution_count": 51,
   "metadata": {},
   "outputs": [],
   "source": [
    "# #看看拆分结果\n",
    "# print(property_list_pre[:2])\n",
    "# print(\"-\"*50)\n",
    "# print(pre_process[:2])"
   ]
  },
  {
   "cell_type": "code",
   "execution_count": 52,
   "metadata": {},
   "outputs": [],
   "source": [
    "# def doc2vec(doc, size, window = 1, min_count = 1):\n",
    "#     \"\"\"\n",
    "#     doc:lists of list格式\n",
    "#     size:目标vector大小 \n",
    "#     \"\"\"\n",
    "#     TaggededDocument = gensim.models.doc2vec.TaggedDocument  \n",
    "#     labeled_doc = []  \n",
    "#     for i, text in enumerate(doc):  \n",
    "#         document = TaggededDocument(text, tags=[i])  \n",
    "#         labeled_doc.append(document)\n",
    "#     model_dm = Doc2Vec(labeled_doc, min_count = min_count, window = window, size = size, \n",
    "#                        negative=5, workers=4)\n",
    "#     array_property = model_dm.infer_vector(pre_process[0])\n",
    "#     for i in doc[1:]:\n",
    "#         temp = model_dm.infer_vector(i)\n",
    "#         array_property = np.vstack((array_property,temp))\n",
    "#     dataframe_property = pd.DataFrame(array_property)\n",
    "#     return dataframe_property"
   ]
  },
  {
   "cell_type": "code",
   "execution_count": 53,
   "metadata": {},
   "outputs": [],
   "source": [
    "# dataframe_property = doc2vec(pre_process, 10)\n",
    "# dataframe_property.head(3)"
   ]
  },
  {
   "cell_type": "code",
   "execution_count": 54,
   "metadata": {},
   "outputs": [],
   "source": [
    "# dataframe_property.shape"
   ]
  },
  {
   "cell_type": "code",
   "execution_count": 55,
   "metadata": {},
   "outputs": [
    {
     "data": {
      "text/plain": [
       "(496482, 32)"
      ]
     },
     "execution_count": 55,
     "metadata": {},
     "output_type": "execute_result"
    }
   ],
   "source": [
    "data.shape"
   ]
  },
  {
   "cell_type": "code",
   "execution_count": 57,
   "metadata": {},
   "outputs": [],
   "source": [
    "# dataframe_property.columns = [\"prop1\",\"prop2\",\"prop3\",\"prop4\",\"prop5\",\n",
    "#                              \"prop6\",\"prop7\",\"prop8\",\"prop9\",\"prop10\",]"
   ]
  },
  {
   "cell_type": "code",
   "execution_count": 58,
   "metadata": {},
   "outputs": [],
   "source": [
    "# data_1 = pd.concat([data, dataframe_property],axis=1)"
   ]
  },
  {
   "cell_type": "code",
   "execution_count": 59,
   "metadata": {},
   "outputs": [
    {
     "data": {
      "text/plain": [
       "2075"
      ]
     },
     "execution_count": 59,
     "metadata": {},
     "output_type": "execute_result"
    }
   ],
   "source": [
    "len(set(list(data[\"item_brand_id\"])))#商品品牌暂时不处理"
   ]
  },
  {
   "cell_type": "code",
   "execution_count": 60,
   "metadata": {},
   "outputs": [
    {
     "data": {
      "text/html": [
       "<div>\n",
       "<style>\n",
       "    .dataframe thead tr:only-child th {\n",
       "        text-align: right;\n",
       "    }\n",
       "\n",
       "    .dataframe thead th {\n",
       "        text-align: left;\n",
       "    }\n",
       "\n",
       "    .dataframe tbody tr th {\n",
       "        vertical-align: top;\n",
       "    }\n",
       "</style>\n",
       "<table border=\"1\" class=\"dataframe\">\n",
       "  <thead>\n",
       "    <tr style=\"text-align: right;\">\n",
       "      <th></th>\n",
       "      <th>item_category_list</th>\n",
       "      <th>item_property_list</th>\n",
       "      <th>item_brand_id</th>\n",
       "      <th>item_city_id</th>\n",
       "      <th>item_price_level</th>\n",
       "      <th>item_sales_level</th>\n",
       "      <th>item_collected_level</th>\n",
       "      <th>item_pv_level</th>\n",
       "      <th>user_gender_id</th>\n",
       "      <th>user_age_level</th>\n",
       "      <th>...</th>\n",
       "      <th>shop_star_level</th>\n",
       "      <th>shop_score_service</th>\n",
       "      <th>shop_score_delivery</th>\n",
       "      <th>shop_score_description</th>\n",
       "      <th>lenth_cate_pred</th>\n",
       "      <th>lenth_prop_pred</th>\n",
       "      <th>union_property</th>\n",
       "      <th>lenth_prop</th>\n",
       "      <th>union_category</th>\n",
       "      <th>lenth_cate</th>\n",
       "    </tr>\n",
       "  </thead>\n",
       "  <tbody>\n",
       "    <tr>\n",
       "      <th>0</th>\n",
       "      <td>5799347067982556520</td>\n",
       "      <td>2072967855524022579;5131280576272319091;263639...</td>\n",
       "      <td>1975590437749032870</td>\n",
       "      <td>3948283326616421003</td>\n",
       "      <td>3</td>\n",
       "      <td>3</td>\n",
       "      <td>4</td>\n",
       "      <td>14</td>\n",
       "      <td>1</td>\n",
       "      <td>1003</td>\n",
       "      <td>...</td>\n",
       "      <td>5002</td>\n",
       "      <td>1.0</td>\n",
       "      <td>1.0</td>\n",
       "      <td>1.0</td>\n",
       "      <td>5</td>\n",
       "      <td>2</td>\n",
       "      <td>0.000000</td>\n",
       "      <td>22</td>\n",
       "      <td>1</td>\n",
       "      <td>1</td>\n",
       "    </tr>\n",
       "    <tr>\n",
       "      <th>1</th>\n",
       "      <td>5799347067982556520</td>\n",
       "      <td>2072967855524022579;5131280576272319091;263639...</td>\n",
       "      <td>1975590437749032870</td>\n",
       "      <td>3948283326616421003</td>\n",
       "      <td>3</td>\n",
       "      <td>3</td>\n",
       "      <td>4</td>\n",
       "      <td>14</td>\n",
       "      <td>0</td>\n",
       "      <td>1002</td>\n",
       "      <td>...</td>\n",
       "      <td>5002</td>\n",
       "      <td>1.0</td>\n",
       "      <td>1.0</td>\n",
       "      <td>1.0</td>\n",
       "      <td>2</td>\n",
       "      <td>5</td>\n",
       "      <td>0.045455</td>\n",
       "      <td>22</td>\n",
       "      <td>1</td>\n",
       "      <td>1</td>\n",
       "    </tr>\n",
       "    <tr>\n",
       "      <th>2</th>\n",
       "      <td>5799347067982556520</td>\n",
       "      <td>2072967855524022579;5131280576272319091;263639...</td>\n",
       "      <td>1975590437749032870</td>\n",
       "      <td>3948283326616421003</td>\n",
       "      <td>3</td>\n",
       "      <td>3</td>\n",
       "      <td>4</td>\n",
       "      <td>14</td>\n",
       "      <td>0</td>\n",
       "      <td>1003</td>\n",
       "      <td>...</td>\n",
       "      <td>5002</td>\n",
       "      <td>1.0</td>\n",
       "      <td>1.0</td>\n",
       "      <td>1.0</td>\n",
       "      <td>3</td>\n",
       "      <td>1</td>\n",
       "      <td>0.045455</td>\n",
       "      <td>22</td>\n",
       "      <td>1</td>\n",
       "      <td>1</td>\n",
       "    </tr>\n",
       "  </tbody>\n",
       "</table>\n",
       "<p>3 rows × 29 columns</p>\n",
       "</div>"
      ],
      "text/plain": [
       "    item_category_list                                 item_property_list  \\\n",
       "0  5799347067982556520  2072967855524022579;5131280576272319091;263639...   \n",
       "1  5799347067982556520  2072967855524022579;5131280576272319091;263639...   \n",
       "2  5799347067982556520  2072967855524022579;5131280576272319091;263639...   \n",
       "\n",
       "         item_brand_id         item_city_id  item_price_level  \\\n",
       "0  1975590437749032870  3948283326616421003                 3   \n",
       "1  1975590437749032870  3948283326616421003                 3   \n",
       "2  1975590437749032870  3948283326616421003                 3   \n",
       "\n",
       "   item_sales_level  item_collected_level  item_pv_level  user_gender_id  \\\n",
       "0                 3                     4             14               1   \n",
       "1                 3                     4             14               0   \n",
       "2                 3                     4             14               0   \n",
       "\n",
       "   user_age_level     ...      shop_star_level  shop_score_service  \\\n",
       "0            1003     ...                 5002                 1.0   \n",
       "1            1002     ...                 5002                 1.0   \n",
       "2            1003     ...                 5002                 1.0   \n",
       "\n",
       "   shop_score_delivery  shop_score_description  lenth_cate_pred  \\\n",
       "0                  1.0                     1.0                5   \n",
       "1                  1.0                     1.0                2   \n",
       "2                  1.0                     1.0                3   \n",
       "\n",
       "  lenth_prop_pred  union_property  lenth_prop  union_category  lenth_cate  \n",
       "0               2        0.000000          22               1           1  \n",
       "1               5        0.045455          22               1           1  \n",
       "2               1        0.045455          22               1           1  \n",
       "\n",
       "[3 rows x 29 columns]"
      ]
     },
     "execution_count": 60,
     "metadata": {},
     "output_type": "execute_result"
    }
   ],
   "source": [
    "data_1 = data.drop(['instance_id','item_id','user_id'],axis = 1)\n",
    "data_1.head(3)"
   ]
  },
  {
   "cell_type": "code",
   "execution_count": 61,
   "metadata": {},
   "outputs": [
    {
     "data": {
      "text/plain": [
       "(496482, 29)"
      ]
     },
     "execution_count": 61,
     "metadata": {},
     "output_type": "execute_result"
    }
   ],
   "source": [
    "data_1.shape"
   ]
  },
  {
   "cell_type": "markdown",
   "metadata": {},
   "source": [
    "# 处理predict_category_property这个feature"
   ]
  },
  {
   "cell_type": "code",
   "execution_count": 62,
   "metadata": {},
   "outputs": [],
   "source": [
    "#pred_cate_prop_list = list(data_1['predict_category_property'])"
   ]
  },
  {
   "cell_type": "code",
   "execution_count": 63,
   "metadata": {},
   "outputs": [],
   "source": [
    "#pred_cate_prop_list[:3]"
   ]
  },
  {
   "cell_type": "code",
   "execution_count": 64,
   "metadata": {},
   "outputs": [],
   "source": [
    "# #用；分解每个cate：property\n",
    "# pcp_list = []\n",
    "# for i in pred_cate_prop_list:\n",
    "#     pcp_list.append(i.split(';'))\n",
    "# #再用：将cate，property分开\n",
    "# pcp_list_2 = []\n",
    "# for i in pcp_list:\n",
    "#     tmp = []\n",
    "#     for k in i:\n",
    "#         tmp.append(k.split(\":\"))\n",
    "#     pcp_list_2.append(tmp)"
   ]
  },
  {
   "cell_type": "code",
   "execution_count": 65,
   "metadata": {},
   "outputs": [],
   "source": [
    "# pcp_list_2[:2]"
   ]
  },
  {
   "cell_type": "code",
   "execution_count": 66,
   "metadata": {},
   "outputs": [],
   "source": [
    "# #每一行的category\n",
    "# each_category_list = []\n",
    "# for i in pcp_list_2:\n",
    "#     tmp = []\n",
    "#     for k in i:\n",
    "#         tmp.append(k[0])\n",
    "#     each_category_list.append(tmp)"
   ]
  },
  {
   "cell_type": "code",
   "execution_count": 67,
   "metadata": {},
   "outputs": [],
   "source": [
    "# each_category_list[:3]"
   ]
  },
  {
   "cell_type": "code",
   "execution_count": 68,
   "metadata": {},
   "outputs": [],
   "source": [
    "# dataframe_pred_cate = doc2vec(each_category_list, 5)\n",
    "# dataframe_pred_cate.head(3)"
   ]
  },
  {
   "cell_type": "code",
   "execution_count": 69,
   "metadata": {},
   "outputs": [],
   "source": [
    "# dataframe_pred_cate.columns = [\"pred_cate1\",\"pred_cate2\",\"pred_cate3\",\n",
    "#                                \"pred_cate4\",\"pred_cate5\"]"
   ]
  },
  {
   "cell_type": "code",
   "execution_count": 70,
   "metadata": {},
   "outputs": [],
   "source": [
    "# data_2 = pd.concat([data_1, dataframe_pred_cate],axis=1)\n",
    "# data_2.head(3)"
   ]
  },
  {
   "cell_type": "code",
   "execution_count": 71,
   "metadata": {},
   "outputs": [],
   "source": [
    "# data_2.shape"
   ]
  },
  {
   "cell_type": "code",
   "execution_count": 72,
   "metadata": {},
   "outputs": [],
   "source": [
    "# #每一行的property\n",
    "# each_property_list = []\n",
    "# for i in pcp_list_2:\n",
    "#     tmp = []\n",
    "#     for k in i:\n",
    "#         tmp.extend(k[1:])\n",
    "#     each_property_list.append(tmp)"
   ]
  },
  {
   "cell_type": "code",
   "execution_count": 73,
   "metadata": {},
   "outputs": [],
   "source": [
    "# each_property_list[:2]"
   ]
  },
  {
   "cell_type": "code",
   "execution_count": 74,
   "metadata": {},
   "outputs": [],
   "source": [
    "# def property_clean(doc):\n",
    "#     doc_trans = []\n",
    "#     for i in range(len(doc)):\n",
    "#         temp = []\n",
    "#         for j in range(len(doc[i])):\n",
    "#             for k in range(len(doc[i][j].split(\",\"))):\n",
    "#                 temp.append(doc[i][j].split(\",\")[k])\n",
    "#         doc_trans.append(temp)\n",
    "#     return doc_trans"
   ]
  },
  {
   "cell_type": "code",
   "execution_count": 75,
   "metadata": {},
   "outputs": [],
   "source": [
    "# def property_clean(doc):\n",
    "#     doc_trans = []\n",
    "#     for i in range(len(doc)):\n",
    "#         temp = []\n",
    "#         for j in range(len(doc[i])):\n",
    "#             for k in range(len(doc[i][j].split(\",\"))):\n",
    "#                 temp.append(doc[i][j].split(\",\")[k])\n",
    "#         doc_trans.append(temp)\n",
    "#     return doc_trans\n",
    "# property_clean_1 = property_clean(each_property_list)\n",
    "# property_clean_1[:2]"
   ]
  },
  {
   "cell_type": "code",
   "execution_count": 76,
   "metadata": {},
   "outputs": [],
   "source": [
    "# def property_clean(doc):\n",
    "#     doc_trans = []\n",
    "#     for i in range(len(doc)):\n",
    "#         temp = []\n",
    "#         for j in range(len(doc[i])):\n",
    "#             for k in range(len(doc[i][j].split(\",\"))):\n",
    "#                 temp.append(doc[i][j].split(\",\")[k])\n",
    "#         doc_trans.append(temp)\n",
    "#     return doc_trans\n",
    "# property_clean_1 = property_clean(each_property_list)\n",
    "# property_clean_1[:2]\n",
    "# each_property_list_prep = [list(set(x)) for x in property_clean_1]\n",
    "# each_property_list_prep[:2]"
   ]
  },
  {
   "cell_type": "code",
   "execution_count": 77,
   "metadata": {},
   "outputs": [],
   "source": [
    "# dataframe_pred_prop = doc2vec(each_property_list_prep, 10)\n",
    "# dataframe_pred_prop.head(3)"
   ]
  },
  {
   "cell_type": "code",
   "execution_count": 78,
   "metadata": {},
   "outputs": [],
   "source": [
    "# dataframe_pred_prop.columns = [\"pred_prop1\",\"pred_prop2\",\"pred_prop3\",\"pred_prop4\",\"pred_prop5\",\n",
    "#                               \"pred_prop6\",\"pred_prop7\",\"pred_prop8\",\"pred_prop9\",\"pred_prop10\",]\n",
    "# data_3 = pd.concat([data_2, dataframe_pred_prop],axis=1)\n",
    "# data_3.head(3)"
   ]
  },
  {
   "cell_type": "code",
   "execution_count": 79,
   "metadata": {},
   "outputs": [],
   "source": [
    "# data_3.shape"
   ]
  },
  {
   "cell_type": "code",
   "execution_count": 80,
   "metadata": {},
   "outputs": [],
   "source": [
    "# data_3.to_csv(\"data_nlp.csv\")"
   ]
  },
  {
   "cell_type": "markdown",
   "metadata": {},
   "source": [
    "-----"
   ]
  },
  {
   "cell_type": "markdown",
   "metadata": {},
   "source": [
    "# context_timestamp特征处理"
   ]
  },
  {
   "cell_type": "code",
   "execution_count": 81,
   "metadata": {},
   "outputs": [],
   "source": [
    "# data_3 = pd.read_csv(\"data_nlp.csv\")"
   ]
  },
  {
   "cell_type": "code",
   "execution_count": 82,
   "metadata": {},
   "outputs": [],
   "source": [
    "def time_value(time_stamp):\n",
    "    hour = int(time_stamp.strftime(\"%H:%M:%S\")[:2]) * 3600\n",
    "    minus = int(time_stamp.strftime(\"%H:%M:%S\")[3:5]) * 60\n",
    "    sec = int(time_stamp.strftime(\"%H:%M:%S\")[6:8])\n",
    "    return hour + minus + sec"
   ]
  },
  {
   "cell_type": "code",
   "execution_count": 83,
   "metadata": {},
   "outputs": [],
   "source": [
    "import datetime \n",
    "time_value_list = []\n",
    "day_list = []\n",
    "for i in range(len(data_1['context_timestamp'])):\n",
    "    time_stamp = datetime.datetime.utcfromtimestamp(data_1['context_timestamp'][i])\n",
    "    day = time_stamp.strftime(\"%Y-%m-%d\")[-2:]\n",
    "    time_value_list.append(time_value(time_stamp))\n",
    "    day_list.append(day)"
   ]
  },
  {
   "cell_type": "code",
   "execution_count": 84,
   "metadata": {},
   "outputs": [
    {
     "data": {
      "text/html": [
       "<div>\n",
       "<style>\n",
       "    .dataframe thead tr:only-child th {\n",
       "        text-align: right;\n",
       "    }\n",
       "\n",
       "    .dataframe thead th {\n",
       "        text-align: left;\n",
       "    }\n",
       "\n",
       "    .dataframe tbody tr th {\n",
       "        vertical-align: top;\n",
       "    }\n",
       "</style>\n",
       "<table border=\"1\" class=\"dataframe\">\n",
       "  <thead>\n",
       "    <tr style=\"text-align: right;\">\n",
       "      <th></th>\n",
       "      <th>item_category_list</th>\n",
       "      <th>item_property_list</th>\n",
       "      <th>item_brand_id</th>\n",
       "      <th>item_city_id</th>\n",
       "      <th>item_price_level</th>\n",
       "      <th>item_sales_level</th>\n",
       "      <th>item_collected_level</th>\n",
       "      <th>item_pv_level</th>\n",
       "      <th>user_gender_id</th>\n",
       "      <th>user_age_level</th>\n",
       "      <th>...</th>\n",
       "      <th>shop_score_service</th>\n",
       "      <th>shop_score_delivery</th>\n",
       "      <th>shop_score_description</th>\n",
       "      <th>lenth_cate_pred</th>\n",
       "      <th>lenth_prop_pred</th>\n",
       "      <th>union_property</th>\n",
       "      <th>lenth_prop</th>\n",
       "      <th>union_category</th>\n",
       "      <th>lenth_cate</th>\n",
       "      <th>day</th>\n",
       "    </tr>\n",
       "  </thead>\n",
       "  <tbody>\n",
       "    <tr>\n",
       "      <th>0</th>\n",
       "      <td>5799347067982556520</td>\n",
       "      <td>2072967855524022579;5131280576272319091;263639...</td>\n",
       "      <td>1975590437749032870</td>\n",
       "      <td>3948283326616421003</td>\n",
       "      <td>3</td>\n",
       "      <td>3</td>\n",
       "      <td>4</td>\n",
       "      <td>14</td>\n",
       "      <td>1</td>\n",
       "      <td>1003</td>\n",
       "      <td>...</td>\n",
       "      <td>1.0</td>\n",
       "      <td>1.0</td>\n",
       "      <td>1.0</td>\n",
       "      <td>5</td>\n",
       "      <td>2</td>\n",
       "      <td>0.000000</td>\n",
       "      <td>22</td>\n",
       "      <td>1</td>\n",
       "      <td>1</td>\n",
       "      <td>18</td>\n",
       "    </tr>\n",
       "    <tr>\n",
       "      <th>1</th>\n",
       "      <td>5799347067982556520</td>\n",
       "      <td>2072967855524022579;5131280576272319091;263639...</td>\n",
       "      <td>1975590437749032870</td>\n",
       "      <td>3948283326616421003</td>\n",
       "      <td>3</td>\n",
       "      <td>3</td>\n",
       "      <td>4</td>\n",
       "      <td>14</td>\n",
       "      <td>0</td>\n",
       "      <td>1002</td>\n",
       "      <td>...</td>\n",
       "      <td>1.0</td>\n",
       "      <td>1.0</td>\n",
       "      <td>1.0</td>\n",
       "      <td>2</td>\n",
       "      <td>5</td>\n",
       "      <td>0.045455</td>\n",
       "      <td>22</td>\n",
       "      <td>1</td>\n",
       "      <td>1</td>\n",
       "      <td>18</td>\n",
       "    </tr>\n",
       "    <tr>\n",
       "      <th>2</th>\n",
       "      <td>5799347067982556520</td>\n",
       "      <td>2072967855524022579;5131280576272319091;263639...</td>\n",
       "      <td>1975590437749032870</td>\n",
       "      <td>3948283326616421003</td>\n",
       "      <td>3</td>\n",
       "      <td>3</td>\n",
       "      <td>4</td>\n",
       "      <td>14</td>\n",
       "      <td>0</td>\n",
       "      <td>1003</td>\n",
       "      <td>...</td>\n",
       "      <td>1.0</td>\n",
       "      <td>1.0</td>\n",
       "      <td>1.0</td>\n",
       "      <td>3</td>\n",
       "      <td>1</td>\n",
       "      <td>0.045455</td>\n",
       "      <td>22</td>\n",
       "      <td>1</td>\n",
       "      <td>1</td>\n",
       "      <td>17</td>\n",
       "    </tr>\n",
       "  </tbody>\n",
       "</table>\n",
       "<p>3 rows × 30 columns</p>\n",
       "</div>"
      ],
      "text/plain": [
       "    item_category_list                                 item_property_list  \\\n",
       "0  5799347067982556520  2072967855524022579;5131280576272319091;263639...   \n",
       "1  5799347067982556520  2072967855524022579;5131280576272319091;263639...   \n",
       "2  5799347067982556520  2072967855524022579;5131280576272319091;263639...   \n",
       "\n",
       "         item_brand_id         item_city_id  item_price_level  \\\n",
       "0  1975590437749032870  3948283326616421003                 3   \n",
       "1  1975590437749032870  3948283326616421003                 3   \n",
       "2  1975590437749032870  3948283326616421003                 3   \n",
       "\n",
       "   item_sales_level  item_collected_level  item_pv_level  user_gender_id  \\\n",
       "0                 3                     4             14               1   \n",
       "1                 3                     4             14               0   \n",
       "2                 3                     4             14               0   \n",
       "\n",
       "   user_age_level ...   shop_score_service  shop_score_delivery  \\\n",
       "0            1003 ...                  1.0                  1.0   \n",
       "1            1002 ...                  1.0                  1.0   \n",
       "2            1003 ...                  1.0                  1.0   \n",
       "\n",
       "   shop_score_description  lenth_cate_pred  lenth_prop_pred union_property  \\\n",
       "0                     1.0                5                2       0.000000   \n",
       "1                     1.0                2                5       0.045455   \n",
       "2                     1.0                3                1       0.045455   \n",
       "\n",
       "   lenth_prop  union_category  lenth_cate  day  \n",
       "0          22               1           1   18  \n",
       "1          22               1           1   18  \n",
       "2          22               1           1   17  \n",
       "\n",
       "[3 rows x 30 columns]"
      ]
     },
     "execution_count": 84,
     "metadata": {},
     "output_type": "execute_result"
    }
   ],
   "source": [
    "data_1['context_timestamp'] = time_value_list\n",
    "data_1[\"day\"] = day_list\n",
    "data_1.head(3)"
   ]
  },
  {
   "cell_type": "code",
   "execution_count": 85,
   "metadata": {},
   "outputs": [],
   "source": [
    "data_2 = data_1.copy(deep = True)"
   ]
  },
  {
   "cell_type": "code",
   "execution_count": 86,
   "metadata": {},
   "outputs": [],
   "source": [
    "#增加一列 timestamp bin\n",
    "data_2['context_timestamp_bin'] = pd.cut(list(data_2['context_timestamp']),24)"
   ]
  },
  {
   "cell_type": "code",
   "execution_count": 87,
   "metadata": {},
   "outputs": [
    {
     "data": {
      "text/plain": [
       "Index(['item_category_list', 'item_property_list', 'item_brand_id',\n",
       "       'item_city_id', 'item_price_level', 'item_sales_level',\n",
       "       'item_collected_level', 'item_pv_level', 'user_gender_id',\n",
       "       'user_age_level', 'user_occupation_id', 'user_star_level', 'context_id',\n",
       "       'context_timestamp', 'context_page_id', 'predict_category_property',\n",
       "       'shop_id', 'shop_review_num_level', 'shop_review_positive_rate',\n",
       "       'shop_star_level', 'shop_score_service', 'shop_score_delivery',\n",
       "       'shop_score_description', 'lenth_cate_pred', 'lenth_prop_pred',\n",
       "       'union_property', 'lenth_prop', 'union_category', 'lenth_cate', 'day',\n",
       "       'context_timestamp_bin'],\n",
       "      dtype='object')"
      ]
     },
     "execution_count": 87,
     "metadata": {},
     "output_type": "execute_result"
    }
   ],
   "source": [
    "data_2.columns"
   ]
  },
  {
   "cell_type": "code",
   "execution_count": 88,
   "metadata": {},
   "outputs": [
    {
     "data": {
      "text/plain": [
       "(496482, 31)"
      ]
     },
     "execution_count": 88,
     "metadata": {},
     "output_type": "execute_result"
    }
   ],
   "source": [
    "data_2.shape"
   ]
  },
  {
   "cell_type": "code",
   "execution_count": 166,
   "metadata": {},
   "outputs": [],
   "source": [
    "#进一步去掉无用的feature\n",
    "data_3 = data_2.drop(['context_id','shop_id','predict_category_property',\n",
    "                     'item_property_list','item_brand_id'],axis = 1)"
   ]
  },
  {
   "cell_type": "code",
   "execution_count": 167,
   "metadata": {},
   "outputs": [],
   "source": [
    "# feature_dummy = [\"context_timestamp_bin\",\"user_occupation_id\",\"user_age_level\",\n",
    "#                 \"user_gender_id\",'item_city_id','item_category_list',\"day\",\n",
    "#                  \"item_pv_level\",\"user_star_level\",\"context_page_id\",\"shop_review_num_level\",\n",
    "#                 \"shop_star_level\",\"item_sales_level\",\"item_collected_level\",\"item_price_level\"]\n",
    "\n",
    "feature_dummy = [\"context_timestamp_bin\",\"user_occupation_id\",\"user_age_level\",\n",
    "                \"user_gender_id\",'item_city_id','item_category_list',\"day\",\n",
    "                ]"
   ]
  },
  {
   "cell_type": "code",
   "execution_count": 168,
   "metadata": {},
   "outputs": [],
   "source": [
    "# data_3[feature_dummy] = data_3[feature_dummy].astype(str)"
   ]
  },
  {
   "cell_type": "code",
   "execution_count": 169,
   "metadata": {},
   "outputs": [],
   "source": [
    "data_3[\"user_occupation_id\"] = data_3[\"user_occupation_id\"].astype(str)\n",
    "data_3[\"user_age_level\"] = data_3[\"user_age_level\"].astype(str)\n",
    "data_3[\"user_gender_id\"] = data_3[\"user_gender_id\"].astype(str)\n",
    "data_3['item_city_id'] = data_3['item_city_id'].astype(str)\n",
    "data_3['item_category_list'] = data_3['item_category_list'].astype(str)\n",
    "data_3['day'] = data_3['day'].astype(str)\n",
    "#data_3['item_brand_id'] = data_3['item_brand_id'].astype(str)\n",
    "\n",
    "# data_3[\"item_pv_level\"] = data_3[\"item_pv_level\"].astype(str)\n",
    "# data_3[\"user_star_level\"] = data_3[\"user_star_level\"].astype(str)\n",
    "# data_3[\"context_page_id\"] = data_3[\"context_page_id\"].astype(str)\n",
    "# data_3[\"shop_review_num_level\"] = data_3[\"shop_review_num_level\"].astype(str)\n",
    "# data_3[\"shop_star_level\"] = data_3[\"shop_star_level\"].astype(str)\n",
    "# data_3[\"item_sales_level\"] = data_3[\"item_sales_level\"].astype(str)\n",
    "# data_3[\"item_collected_level\"] = data_3[\"item_collected_level\"].astype(str)\n",
    "# data_3[\"item_price_level\"] = data_3[\"item_price_level\"].astype(str)"
   ]
  },
  {
   "cell_type": "code",
   "execution_count": 170,
   "metadata": {},
   "outputs": [],
   "source": [
    "data_4 = pd.concat([data_3,pd.get_dummies(data_3[feature_dummy])],axis =1)\n",
    "data_4 = data_4.drop(feature_dummy,axis = 1)"
   ]
  },
  {
   "cell_type": "code",
   "execution_count": 171,
   "metadata": {},
   "outputs": [
    {
     "data": {
      "text/plain": [
       "(496482, 211)"
      ]
     },
     "execution_count": 171,
     "metadata": {},
     "output_type": "execute_result"
    }
   ],
   "source": [
    "data_4.shape"
   ]
  },
  {
   "cell_type": "code",
   "execution_count": 172,
   "metadata": {},
   "outputs": [],
   "source": [
    "# feature_std = ['item_price_level','shop_score_description','shop_score_delivery',\n",
    "#               'shop_score_service','shop_star_level','shop_review_positive_rate',\n",
    "#               'shop_review_num_level','context_page_id','user_star_level',\n",
    "#                'item_pv_level','item_collected_level','item_sales_level',\n",
    "#                'union_property','query_complexity_prope','union_category', \n",
    "#                'query_complexity_cate','lenth_cate_pred', 'lenth_prop_pred'\n",
    "#               ]\n",
    "feature_std = ['shop_score_description','shop_score_delivery','shop_score_service',\n",
    "               'shop_review_positive_rate','union_property','lenth_prop',\n",
    "               'union_category', 'lenth_cate','lenth_cate_pred','lenth_prop_pred',\n",
    "               'context_timestamp',\"item_pv_level\",\"user_star_level\",\"context_page_id\",\n",
    "               \"shop_review_num_level\",\"shop_star_level\",\"item_sales_level\",\n",
    "               \"item_collected_level\",\"item_price_level\"\n",
    "               ]"
   ]
  },
  {
   "cell_type": "code",
   "execution_count": 173,
   "metadata": {},
   "outputs": [
    {
     "name": "stdout",
     "output_type": "stream",
     "text": [
      "(496482, 211)\n"
     ]
    }
   ],
   "source": [
    "from sklearn.preprocessing import StandardScaler\n",
    "std = StandardScaler() \n",
    "std.fit(data_4[feature_std].values)\n",
    "data_4[feature_std] = std.transform(list(data_4[feature_std].values))       \n",
    "print(data_4.shape)"
   ]
  },
  {
   "cell_type": "code",
   "execution_count": 174,
   "metadata": {},
   "outputs": [
    {
     "data": {
      "text/html": [
       "<div>\n",
       "<style>\n",
       "    .dataframe thead tr:only-child th {\n",
       "        text-align: right;\n",
       "    }\n",
       "\n",
       "    .dataframe thead th {\n",
       "        text-align: left;\n",
       "    }\n",
       "\n",
       "    .dataframe tbody tr th {\n",
       "        vertical-align: top;\n",
       "    }\n",
       "</style>\n",
       "<table border=\"1\" class=\"dataframe\">\n",
       "  <thead>\n",
       "    <tr style=\"text-align: right;\">\n",
       "      <th></th>\n",
       "      <th>item_price_level</th>\n",
       "      <th>item_sales_level</th>\n",
       "      <th>item_collected_level</th>\n",
       "      <th>item_pv_level</th>\n",
       "      <th>user_star_level</th>\n",
       "      <th>context_timestamp</th>\n",
       "      <th>context_page_id</th>\n",
       "      <th>shop_review_num_level</th>\n",
       "      <th>shop_review_positive_rate</th>\n",
       "      <th>shop_star_level</th>\n",
       "      <th>...</th>\n",
       "      <th>item_category_list_8710739180200009128</th>\n",
       "      <th>day_17</th>\n",
       "      <th>day_18</th>\n",
       "      <th>day_19</th>\n",
       "      <th>day_20</th>\n",
       "      <th>day_21</th>\n",
       "      <th>day_22</th>\n",
       "      <th>day_23</th>\n",
       "      <th>day_24</th>\n",
       "      <th>day_25</th>\n",
       "    </tr>\n",
       "  </thead>\n",
       "  <tbody>\n",
       "    <tr>\n",
       "      <th>0</th>\n",
       "      <td>-3.475377</td>\n",
       "      <td>-3.1379</td>\n",
       "      <td>-3.28112</td>\n",
       "      <td>-1.444348</td>\n",
       "      <td>0.035294</td>\n",
       "      <td>-1.415444</td>\n",
       "      <td>0.656024</td>\n",
       "      <td>-4.162958</td>\n",
       "      <td>0.435111</td>\n",
       "      <td>-4.310423</td>\n",
       "      <td>...</td>\n",
       "      <td>0</td>\n",
       "      <td>0</td>\n",
       "      <td>1</td>\n",
       "      <td>0</td>\n",
       "      <td>0</td>\n",
       "      <td>0</td>\n",
       "      <td>0</td>\n",
       "      <td>0</td>\n",
       "      <td>0</td>\n",
       "      <td>0</td>\n",
       "    </tr>\n",
       "    <tr>\n",
       "      <th>1</th>\n",
       "      <td>-3.475377</td>\n",
       "      <td>-3.1379</td>\n",
       "      <td>-3.28112</td>\n",
       "      <td>-1.444348</td>\n",
       "      <td>0.057759</td>\n",
       "      <td>-1.068065</td>\n",
       "      <td>-0.587808</td>\n",
       "      <td>-4.162958</td>\n",
       "      <td>0.435111</td>\n",
       "      <td>-4.310423</td>\n",
       "      <td>...</td>\n",
       "      <td>0</td>\n",
       "      <td>0</td>\n",
       "      <td>1</td>\n",
       "      <td>0</td>\n",
       "      <td>0</td>\n",
       "      <td>0</td>\n",
       "      <td>0</td>\n",
       "      <td>0</td>\n",
       "      <td>0</td>\n",
       "      <td>0</td>\n",
       "    </tr>\n",
       "    <tr>\n",
       "      <th>2</th>\n",
       "      <td>-3.475377</td>\n",
       "      <td>-3.1379</td>\n",
       "      <td>-3.28112</td>\n",
       "      <td>-1.444348</td>\n",
       "      <td>0.042782</td>\n",
       "      <td>1.748157</td>\n",
       "      <td>-0.587808</td>\n",
       "      <td>-4.162958</td>\n",
       "      <td>0.435111</td>\n",
       "      <td>-4.310423</td>\n",
       "      <td>...</td>\n",
       "      <td>0</td>\n",
       "      <td>1</td>\n",
       "      <td>0</td>\n",
       "      <td>0</td>\n",
       "      <td>0</td>\n",
       "      <td>0</td>\n",
       "      <td>0</td>\n",
       "      <td>0</td>\n",
       "      <td>0</td>\n",
       "      <td>0</td>\n",
       "    </tr>\n",
       "  </tbody>\n",
       "</table>\n",
       "<p>3 rows × 211 columns</p>\n",
       "</div>"
      ],
      "text/plain": [
       "   item_price_level  item_sales_level  item_collected_level  item_pv_level  \\\n",
       "0         -3.475377           -3.1379              -3.28112      -1.444348   \n",
       "1         -3.475377           -3.1379              -3.28112      -1.444348   \n",
       "2         -3.475377           -3.1379              -3.28112      -1.444348   \n",
       "\n",
       "   user_star_level  context_timestamp  context_page_id  shop_review_num_level  \\\n",
       "0         0.035294          -1.415444         0.656024              -4.162958   \n",
       "1         0.057759          -1.068065        -0.587808              -4.162958   \n",
       "2         0.042782           1.748157        -0.587808              -4.162958   \n",
       "\n",
       "   shop_review_positive_rate  shop_star_level   ...    \\\n",
       "0                   0.435111        -4.310423   ...     \n",
       "1                   0.435111        -4.310423   ...     \n",
       "2                   0.435111        -4.310423   ...     \n",
       "\n",
       "   item_category_list_8710739180200009128  day_17  day_18  day_19  day_20  \\\n",
       "0                                       0       0       1       0       0   \n",
       "1                                       0       0       1       0       0   \n",
       "2                                       0       1       0       0       0   \n",
       "\n",
       "   day_21  day_22  day_23  day_24  day_25  \n",
       "0       0       0       0       0       0  \n",
       "1       0       0       0       0       0  \n",
       "2       0       0       0       0       0  \n",
       "\n",
       "[3 rows x 211 columns]"
      ]
     },
     "execution_count": 174,
     "metadata": {},
     "output_type": "execute_result"
    }
   ],
   "source": [
    "data_4.head(3)"
   ]
  },
  {
   "cell_type": "markdown",
   "metadata": {},
   "source": [
    "------"
   ]
  },
  {
   "cell_type": "code",
   "execution_count": 175,
   "metadata": {},
   "outputs": [],
   "source": [
    "train = data_4.loc[:478110,:]\n",
    "test = data_4.loc[478111:,:]"
   ]
  },
  {
   "cell_type": "code",
   "execution_count": 176,
   "metadata": {},
   "outputs": [
    {
     "data": {
      "text/plain": [
       "(478111, 211)"
      ]
     },
     "execution_count": 176,
     "metadata": {},
     "output_type": "execute_result"
    }
   ],
   "source": [
    "train.shape"
   ]
  },
  {
   "cell_type": "code",
   "execution_count": 177,
   "metadata": {},
   "outputs": [
    {
     "data": {
      "text/plain": [
       "(18371, 211)"
      ]
     },
     "execution_count": 177,
     "metadata": {},
     "output_type": "execute_result"
    }
   ],
   "source": [
    "test.shape"
   ]
  },
  {
   "cell_type": "code",
   "execution_count": 178,
   "metadata": {},
   "outputs": [
    {
     "data": {
      "text/plain": [
       "(478111,)"
      ]
     },
     "execution_count": 178,
     "metadata": {},
     "output_type": "execute_result"
    }
   ],
   "source": [
    "train_y.shape"
   ]
  },
  {
   "cell_type": "code",
   "execution_count": 179,
   "metadata": {},
   "outputs": [],
   "source": [
    "#Common Model Algorithms\n",
    "from sklearn import svm, tree, linear_model, neighbors, naive_bayes, \\\n",
    "                    ensemble, discriminant_analysis, gaussian_process\n",
    "from xgboost import XGBClassifier\n",
    "from lightgbm import LGBMClassifier\n",
    "#Common Model Helpers\n",
    "from sklearn.preprocessing import OneHotEncoder, LabelEncoder\n",
    "from sklearn import feature_selection\n",
    "from sklearn import model_selection\n",
    "from sklearn import metrics\n",
    "#Visualization\n",
    "import matplotlib as mpl\n",
    "import matplotlib.pyplot as plt\n",
    "import matplotlib.pylab as pylab\n",
    "import seaborn as sns\n",
    "from pandas.tools.plotting import scatter_matrix\n",
    "%matplotlib inline\n",
    "mpl.style.use('ggplot')\n",
    "sns.set_style('white')\n",
    "pylab.rcParams['figure.figsize'] = 12,8"
   ]
  },
  {
   "cell_type": "code",
   "execution_count": 182,
   "metadata": {},
   "outputs": [],
   "source": [
    "MLA = [\n",
    "#     ensemble.AdaBoostClassifier(),\n",
    "#     ensemble.BaggingClassifier(),\n",
    "#     ensemble.ExtraTreesClassifier(),\n",
    "#     ensemble.GradientBoostingClassifier(),\n",
    "#     ensemble.RandomForestClassifier(),\n",
    "#     gaussian_process.GaussianProcessClassifier(),\n",
    "#     linear_model.LogisticRegressionCV(),\n",
    "#     linear_model.PassiveAggressiveClassifier(),\n",
    "#     linear_model.RidgeClassifierCV(),\n",
    "#     linear_model.SGDClassifier(),\n",
    "#     linear_model.Perceptron(),\n",
    "#     svm.SVC(probability=True),\n",
    "#     svm.NuSVC(probability=True),\n",
    "    LGBMClassifier(num_leaves=63, max_depth=7, n_estimators=80, n_jobs=20)\n",
    "    #LGBMClassifier()\n",
    "    ]"
   ]
  },
  {
   "cell_type": "code",
   "execution_count": 183,
   "metadata": {},
   "outputs": [
    {
     "data": {
      "text/plain": [
       "[LGBMClassifier(boosting_type='gbdt', class_weight=None, colsample_bytree=1.0,\n",
       "         learning_rate=0.1, max_depth=7, min_child_samples=20,\n",
       "         min_child_weight=0.001, min_split_gain=0.0, n_estimators=80,\n",
       "         n_jobs=20, num_leaves=63, objective=None, random_state=None,\n",
       "         reg_alpha=0.0, reg_lambda=0.0, silent=True, subsample=1.0,\n",
       "         subsample_for_bin=200000, subsample_freq=1)]"
      ]
     },
     "execution_count": 183,
     "metadata": {},
     "output_type": "execute_result"
    }
   ],
   "source": [
    "MLA"
   ]
  },
  {
   "cell_type": "code",
   "execution_count": 184,
   "metadata": {},
   "outputs": [],
   "source": [
    "train = train.reset_index(drop = True)\n",
    "test = test.reset_index(drop = True)"
   ]
  },
  {
   "cell_type": "code",
   "execution_count": 185,
   "metadata": {},
   "outputs": [
    {
     "name": "stderr",
     "output_type": "stream",
     "text": [
      "i:\\anaconda\\lib\\site-packages\\sklearn\\utils\\deprecation.py:122: FutureWarning: You are accessing a training score ('train_score'), which will not be available by default any more in 0.21. If you need training scores, please set return_train_score=True\n",
      "  warnings.warn(*warn_args, **warn_kwargs)\n"
     ]
    },
    {
     "name": "stdout",
     "output_type": "stream",
     "text": [
      "LGBMClassifier complete...\n"
     ]
    },
    {
     "name": "stderr",
     "output_type": "stream",
     "text": [
      "i:\\anaconda\\lib\\site-packages\\sklearn\\preprocessing\\label.py:151: DeprecationWarning: The truth value of an empty array is ambiguous. Returning False, but in future this will result in an error. Use `array.size > 0` to check that an array is not empty.\n",
      "  if diff:\n"
     ]
    },
    {
     "data": {
      "text/html": [
       "<div>\n",
       "<style>\n",
       "    .dataframe thead tr:only-child th {\n",
       "        text-align: right;\n",
       "    }\n",
       "\n",
       "    .dataframe thead th {\n",
       "        text-align: left;\n",
       "    }\n",
       "\n",
       "    .dataframe tbody tr th {\n",
       "        vertical-align: top;\n",
       "    }\n",
       "</style>\n",
       "<table border=\"1\" class=\"dataframe\">\n",
       "  <thead>\n",
       "    <tr style=\"text-align: right;\">\n",
       "      <th></th>\n",
       "      <th>MLA Name</th>\n",
       "      <th>MLA Parameters</th>\n",
       "      <th>MLA Train log_loss Mean</th>\n",
       "      <th>MLA Test log_loss Mean</th>\n",
       "      <th>MLA Time</th>\n",
       "      <th>MLA Test log_loss 3*STD</th>\n",
       "    </tr>\n",
       "  </thead>\n",
       "  <tbody>\n",
       "    <tr>\n",
       "      <th>0</th>\n",
       "      <td>LGBMClassifier</td>\n",
       "      <td>{'boosting_type': 'gbdt', 'class_weight': None...</td>\n",
       "      <td>0.0817816</td>\n",
       "      <td>0.0893604</td>\n",
       "      <td>14.9693</td>\n",
       "      <td>-0.002227</td>\n",
       "    </tr>\n",
       "  </tbody>\n",
       "</table>\n",
       "</div>"
      ],
      "text/plain": [
       "         MLA Name                                     MLA Parameters  \\\n",
       "0  LGBMClassifier  {'boosting_type': 'gbdt', 'class_weight': None...   \n",
       "\n",
       "  MLA Train log_loss Mean MLA Test log_loss Mean MLA Time  \\\n",
       "0               0.0817816              0.0893604  14.9693   \n",
       "\n",
       "   MLA Test log_loss 3*STD  \n",
       "0                -0.002227  "
      ]
     },
     "execution_count": 185,
     "metadata": {},
     "output_type": "execute_result"
    }
   ],
   "source": [
    "cv_split = model_selection.ShuffleSplit(n_splits = 10, test_size = .3, train_size = .7, \n",
    "                                        random_state = 42 ) \n",
    "\n",
    "MLA_columns = ['MLA Name', 'MLA Parameters','MLA Train log_loss Mean', \n",
    "               'MLA Test log_loss Mean' ,'MLA Time']\n",
    "MLA_compare = pd.DataFrame(columns = MLA_columns)\n",
    "row_index = 0\n",
    "for alg in MLA:\n",
    "    MLA_name = alg.__class__.__name__\n",
    "    MLA_compare.loc[row_index, 'MLA Name'] = MLA_name\n",
    "    MLA_compare.loc[row_index, 'MLA Parameters'] = str(alg.get_params())\n",
    "    \n",
    "    cv_results = model_selection.cross_validate(alg, train, \n",
    "                                                train_y,cv  = cv_split,\n",
    "                                                scoring='neg_log_loss')\n",
    "\n",
    "    MLA_compare.loc[row_index, 'MLA Time'] = cv_results['fit_time'].mean()\n",
    "    MLA_compare.loc[row_index, 'MLA Train log_loss Mean'] = -cv_results['train_score'].mean()\n",
    "    MLA_compare.loc[row_index, 'MLA Test log_loss Mean'] = -cv_results['test_score'].mean()   \n",
    "    MLA_compare.loc[row_index, 'MLA Test log_loss 3*STD'] = -cv_results['test_score'].std()*3   #let's know the worst that can happen!\n",
    "    \n",
    "    alg.fit(train, train_y)\n",
    "    MLA_predict = alg.predict(test)\n",
    "    print(MLA_name,\"complete...\")\n",
    "    \n",
    "    row_index+=1\n",
    "\n",
    "MLA_compare.sort_values(by = ['MLA Test log_loss Mean'], ascending = False, inplace = True)\n",
    "MLA_compare"
   ]
  },
  {
   "cell_type": "code",
   "execution_count": 186,
   "metadata": {},
   "outputs": [],
   "source": [
    "predict_prob = alg.predict_proba(test)[:,1]"
   ]
  },
  {
   "cell_type": "code",
   "execution_count": 187,
   "metadata": {},
   "outputs": [],
   "source": [
    "submission = pd.read_table(\"round1_ijcai_18_result_demo_20180301.txt\")"
   ]
  },
  {
   "cell_type": "code",
   "execution_count": 188,
   "metadata": {},
   "outputs": [],
   "source": [
    "submission_final = pd.DataFrame(columns=submission.columns)"
   ]
  },
  {
   "cell_type": "code",
   "execution_count": 189,
   "metadata": {},
   "outputs": [
    {
     "data": {
      "text/html": [
       "<div>\n",
       "<style>\n",
       "    .dataframe thead tr:only-child th {\n",
       "        text-align: right;\n",
       "    }\n",
       "\n",
       "    .dataframe thead th {\n",
       "        text-align: left;\n",
       "    }\n",
       "\n",
       "    .dataframe tbody tr th {\n",
       "        vertical-align: top;\n",
       "    }\n",
       "</style>\n",
       "<table border=\"1\" class=\"dataframe\">\n",
       "  <thead>\n",
       "    <tr style=\"text-align: right;\">\n",
       "      <th></th>\n",
       "      <th>instance_id</th>\n",
       "      <th>predicted_score</th>\n",
       "    </tr>\n",
       "  </thead>\n",
       "  <tbody>\n",
       "    <tr>\n",
       "      <th>0</th>\n",
       "      <td>2475218615076601065</td>\n",
       "      <td>0.007404</td>\n",
       "    </tr>\n",
       "    <tr>\n",
       "      <th>1</th>\n",
       "      <td>398316874173557226</td>\n",
       "      <td>0.021451</td>\n",
       "    </tr>\n",
       "    <tr>\n",
       "      <th>2</th>\n",
       "      <td>6586402638209028583</td>\n",
       "      <td>0.018573</td>\n",
       "    </tr>\n",
       "    <tr>\n",
       "      <th>3</th>\n",
       "      <td>1040996105851528465</td>\n",
       "      <td>0.022394</td>\n",
       "    </tr>\n",
       "    <tr>\n",
       "      <th>4</th>\n",
       "      <td>6316278569655873454</td>\n",
       "      <td>0.020663</td>\n",
       "    </tr>\n",
       "    <tr>\n",
       "      <th>5</th>\n",
       "      <td>868158305045921978</td>\n",
       "      <td>0.020491</td>\n",
       "    </tr>\n",
       "    <tr>\n",
       "      <th>6</th>\n",
       "      <td>5713520501786699854</td>\n",
       "      <td>0.013487</td>\n",
       "    </tr>\n",
       "    <tr>\n",
       "      <th>7</th>\n",
       "      <td>932945015407923184</td>\n",
       "      <td>0.008327</td>\n",
       "    </tr>\n",
       "    <tr>\n",
       "      <th>8</th>\n",
       "      <td>1919197847086752313</td>\n",
       "      <td>0.010393</td>\n",
       "    </tr>\n",
       "    <tr>\n",
       "      <th>9</th>\n",
       "      <td>304887065966615346</td>\n",
       "      <td>0.011244</td>\n",
       "    </tr>\n",
       "    <tr>\n",
       "      <th>10</th>\n",
       "      <td>3282556850371665</td>\n",
       "      <td>0.008986</td>\n",
       "    </tr>\n",
       "    <tr>\n",
       "      <th>11</th>\n",
       "      <td>8829646398295427742</td>\n",
       "      <td>0.015277</td>\n",
       "    </tr>\n",
       "    <tr>\n",
       "      <th>12</th>\n",
       "      <td>3177704368658581090</td>\n",
       "      <td>0.009569</td>\n",
       "    </tr>\n",
       "    <tr>\n",
       "      <th>13</th>\n",
       "      <td>331811904131229654</td>\n",
       "      <td>0.024447</td>\n",
       "    </tr>\n",
       "    <tr>\n",
       "      <th>14</th>\n",
       "      <td>1529584165704680903</td>\n",
       "      <td>0.020466</td>\n",
       "    </tr>\n",
       "    <tr>\n",
       "      <th>15</th>\n",
       "      <td>410957802501821801</td>\n",
       "      <td>0.026466</td>\n",
       "    </tr>\n",
       "    <tr>\n",
       "      <th>16</th>\n",
       "      <td>7858701120525579871</td>\n",
       "      <td>0.026039</td>\n",
       "    </tr>\n",
       "    <tr>\n",
       "      <th>17</th>\n",
       "      <td>1007593432911733192</td>\n",
       "      <td>0.032775</td>\n",
       "    </tr>\n",
       "    <tr>\n",
       "      <th>18</th>\n",
       "      <td>6933421324008829721</td>\n",
       "      <td>0.027284</td>\n",
       "    </tr>\n",
       "    <tr>\n",
       "      <th>19</th>\n",
       "      <td>949601458836318592</td>\n",
       "      <td>0.030764</td>\n",
       "    </tr>\n",
       "    <tr>\n",
       "      <th>20</th>\n",
       "      <td>1204371563787795352</td>\n",
       "      <td>0.027897</td>\n",
       "    </tr>\n",
       "    <tr>\n",
       "      <th>21</th>\n",
       "      <td>6697124581068234934</td>\n",
       "      <td>0.009134</td>\n",
       "    </tr>\n",
       "    <tr>\n",
       "      <th>22</th>\n",
       "      <td>7458626674337135052</td>\n",
       "      <td>0.006492</td>\n",
       "    </tr>\n",
       "    <tr>\n",
       "      <th>23</th>\n",
       "      <td>6451011837344535814</td>\n",
       "      <td>0.005567</td>\n",
       "    </tr>\n",
       "    <tr>\n",
       "      <th>24</th>\n",
       "      <td>4970342844069330588</td>\n",
       "      <td>0.005779</td>\n",
       "    </tr>\n",
       "    <tr>\n",
       "      <th>25</th>\n",
       "      <td>1311037283502827477</td>\n",
       "      <td>0.003606</td>\n",
       "    </tr>\n",
       "    <tr>\n",
       "      <th>26</th>\n",
       "      <td>5367830782177104937</td>\n",
       "      <td>0.008130</td>\n",
       "    </tr>\n",
       "    <tr>\n",
       "      <th>27</th>\n",
       "      <td>130085071580390177</td>\n",
       "      <td>0.004771</td>\n",
       "    </tr>\n",
       "    <tr>\n",
       "      <th>28</th>\n",
       "      <td>5277248246761080968</td>\n",
       "      <td>0.006065</td>\n",
       "    </tr>\n",
       "    <tr>\n",
       "      <th>29</th>\n",
       "      <td>8248237544078109435</td>\n",
       "      <td>0.008060</td>\n",
       "    </tr>\n",
       "    <tr>\n",
       "      <th>...</th>\n",
       "      <td>...</td>\n",
       "      <td>...</td>\n",
       "    </tr>\n",
       "    <tr>\n",
       "      <th>18341</th>\n",
       "      <td>6307702657719428200</td>\n",
       "      <td>0.010952</td>\n",
       "    </tr>\n",
       "    <tr>\n",
       "      <th>18342</th>\n",
       "      <td>9034943252763268300</td>\n",
       "      <td>0.013656</td>\n",
       "    </tr>\n",
       "    <tr>\n",
       "      <th>18343</th>\n",
       "      <td>7424500915900560254</td>\n",
       "      <td>0.013237</td>\n",
       "    </tr>\n",
       "    <tr>\n",
       "      <th>18344</th>\n",
       "      <td>1780351223674224578</td>\n",
       "      <td>0.013089</td>\n",
       "    </tr>\n",
       "    <tr>\n",
       "      <th>18345</th>\n",
       "      <td>2687746965037747411</td>\n",
       "      <td>0.012157</td>\n",
       "    </tr>\n",
       "    <tr>\n",
       "      <th>18346</th>\n",
       "      <td>1682944844186680588</td>\n",
       "      <td>0.011598</td>\n",
       "    </tr>\n",
       "    <tr>\n",
       "      <th>18347</th>\n",
       "      <td>573463664029912056</td>\n",
       "      <td>0.015975</td>\n",
       "    </tr>\n",
       "    <tr>\n",
       "      <th>18348</th>\n",
       "      <td>1876520637172632472</td>\n",
       "      <td>0.012996</td>\n",
       "    </tr>\n",
       "    <tr>\n",
       "      <th>18349</th>\n",
       "      <td>5212952446591466736</td>\n",
       "      <td>0.008826</td>\n",
       "    </tr>\n",
       "    <tr>\n",
       "      <th>18350</th>\n",
       "      <td>6721999567927514124</td>\n",
       "      <td>0.013126</td>\n",
       "    </tr>\n",
       "    <tr>\n",
       "      <th>18351</th>\n",
       "      <td>9099828709949113786</td>\n",
       "      <td>0.004629</td>\n",
       "    </tr>\n",
       "    <tr>\n",
       "      <th>18352</th>\n",
       "      <td>2869971643116990166</td>\n",
       "      <td>0.011795</td>\n",
       "    </tr>\n",
       "    <tr>\n",
       "      <th>18353</th>\n",
       "      <td>9905078821845005</td>\n",
       "      <td>0.011529</td>\n",
       "    </tr>\n",
       "    <tr>\n",
       "      <th>18354</th>\n",
       "      <td>2780349896508892570</td>\n",
       "      <td>0.025403</td>\n",
       "    </tr>\n",
       "    <tr>\n",
       "      <th>18355</th>\n",
       "      <td>386917396911175529</td>\n",
       "      <td>0.009575</td>\n",
       "    </tr>\n",
       "    <tr>\n",
       "      <th>18356</th>\n",
       "      <td>1531314888576311191</td>\n",
       "      <td>0.013680</td>\n",
       "    </tr>\n",
       "    <tr>\n",
       "      <th>18357</th>\n",
       "      <td>448057823895352888</td>\n",
       "      <td>0.011716</td>\n",
       "    </tr>\n",
       "    <tr>\n",
       "      <th>18358</th>\n",
       "      <td>5513085311457495517</td>\n",
       "      <td>0.010245</td>\n",
       "    </tr>\n",
       "    <tr>\n",
       "      <th>18359</th>\n",
       "      <td>5660000350153270793</td>\n",
       "      <td>0.018617</td>\n",
       "    </tr>\n",
       "    <tr>\n",
       "      <th>18360</th>\n",
       "      <td>7273836519562406981</td>\n",
       "      <td>0.016261</td>\n",
       "    </tr>\n",
       "    <tr>\n",
       "      <th>18361</th>\n",
       "      <td>2916193909730283463</td>\n",
       "      <td>0.011962</td>\n",
       "    </tr>\n",
       "    <tr>\n",
       "      <th>18362</th>\n",
       "      <td>9161335756218550796</td>\n",
       "      <td>0.011651</td>\n",
       "    </tr>\n",
       "    <tr>\n",
       "      <th>18363</th>\n",
       "      <td>5289288820294504479</td>\n",
       "      <td>0.018059</td>\n",
       "    </tr>\n",
       "    <tr>\n",
       "      <th>18364</th>\n",
       "      <td>7401528437843873561</td>\n",
       "      <td>0.011217</td>\n",
       "    </tr>\n",
       "    <tr>\n",
       "      <th>18365</th>\n",
       "      <td>2670064366569012998</td>\n",
       "      <td>0.009607</td>\n",
       "    </tr>\n",
       "    <tr>\n",
       "      <th>18366</th>\n",
       "      <td>196556205576680664</td>\n",
       "      <td>0.013263</td>\n",
       "    </tr>\n",
       "    <tr>\n",
       "      <th>18367</th>\n",
       "      <td>3972597272081581867</td>\n",
       "      <td>0.014725</td>\n",
       "    </tr>\n",
       "    <tr>\n",
       "      <th>18368</th>\n",
       "      <td>7331170863335915445</td>\n",
       "      <td>0.014430</td>\n",
       "    </tr>\n",
       "    <tr>\n",
       "      <th>18369</th>\n",
       "      <td>4801514605649495171</td>\n",
       "      <td>0.021035</td>\n",
       "    </tr>\n",
       "    <tr>\n",
       "      <th>18370</th>\n",
       "      <td>4931599763172137858</td>\n",
       "      <td>0.028163</td>\n",
       "    </tr>\n",
       "  </tbody>\n",
       "</table>\n",
       "<p>18371 rows × 2 columns</p>\n",
       "</div>"
      ],
      "text/plain": [
       "               instance_id  predicted_score\n",
       "0      2475218615076601065         0.007404\n",
       "1       398316874173557226         0.021451\n",
       "2      6586402638209028583         0.018573\n",
       "3      1040996105851528465         0.022394\n",
       "4      6316278569655873454         0.020663\n",
       "5       868158305045921978         0.020491\n",
       "6      5713520501786699854         0.013487\n",
       "7       932945015407923184         0.008327\n",
       "8      1919197847086752313         0.010393\n",
       "9       304887065966615346         0.011244\n",
       "10        3282556850371665         0.008986\n",
       "11     8829646398295427742         0.015277\n",
       "12     3177704368658581090         0.009569\n",
       "13      331811904131229654         0.024447\n",
       "14     1529584165704680903         0.020466\n",
       "15      410957802501821801         0.026466\n",
       "16     7858701120525579871         0.026039\n",
       "17     1007593432911733192         0.032775\n",
       "18     6933421324008829721         0.027284\n",
       "19      949601458836318592         0.030764\n",
       "20     1204371563787795352         0.027897\n",
       "21     6697124581068234934         0.009134\n",
       "22     7458626674337135052         0.006492\n",
       "23     6451011837344535814         0.005567\n",
       "24     4970342844069330588         0.005779\n",
       "25     1311037283502827477         0.003606\n",
       "26     5367830782177104937         0.008130\n",
       "27      130085071580390177         0.004771\n",
       "28     5277248246761080968         0.006065\n",
       "29     8248237544078109435         0.008060\n",
       "...                    ...              ...\n",
       "18341  6307702657719428200         0.010952\n",
       "18342  9034943252763268300         0.013656\n",
       "18343  7424500915900560254         0.013237\n",
       "18344  1780351223674224578         0.013089\n",
       "18345  2687746965037747411         0.012157\n",
       "18346  1682944844186680588         0.011598\n",
       "18347   573463664029912056         0.015975\n",
       "18348  1876520637172632472         0.012996\n",
       "18349  5212952446591466736         0.008826\n",
       "18350  6721999567927514124         0.013126\n",
       "18351  9099828709949113786         0.004629\n",
       "18352  2869971643116990166         0.011795\n",
       "18353     9905078821845005         0.011529\n",
       "18354  2780349896508892570         0.025403\n",
       "18355   386917396911175529         0.009575\n",
       "18356  1531314888576311191         0.013680\n",
       "18357   448057823895352888         0.011716\n",
       "18358  5513085311457495517         0.010245\n",
       "18359  5660000350153270793         0.018617\n",
       "18360  7273836519562406981         0.016261\n",
       "18361  2916193909730283463         0.011962\n",
       "18362  9161335756218550796         0.011651\n",
       "18363  5289288820294504479         0.018059\n",
       "18364  7401528437843873561         0.011217\n",
       "18365  2670064366569012998         0.009607\n",
       "18366   196556205576680664         0.013263\n",
       "18367  3972597272081581867         0.014725\n",
       "18368  7331170863335915445         0.014430\n",
       "18369  4801514605649495171         0.021035\n",
       "18370  4931599763172137858         0.028163\n",
       "\n",
       "[18371 rows x 2 columns]"
      ]
     },
     "execution_count": 189,
     "metadata": {},
     "output_type": "execute_result"
    }
   ],
   "source": [
    "submission_final[\"instance_id\"] = test_1[\"instance_id\"]\n",
    "submission_final[\"predicted_score\"] = predict_prob\n",
    "submission_final = submission_final.drop(\"instance_id predicted_score\",axis = 1)\n",
    "submission_final"
   ]
  },
  {
   "cell_type": "code",
   "execution_count": 190,
   "metadata": {},
   "outputs": [],
   "source": [
    "from datetime import date"
   ]
  },
  {
   "cell_type": "code",
   "execution_count": 191,
   "metadata": {},
   "outputs": [],
   "source": [
    "today = date.today().strftime('%Y%m%d')"
   ]
  },
  {
   "cell_type": "code",
   "execution_count": 192,
   "metadata": {},
   "outputs": [],
   "source": [
    "submission_final.to_csv(\"submission_\"+today+\".csv\",index = False,sep = ' ')"
   ]
  },
  {
   "cell_type": "code",
   "execution_count": 193,
   "metadata": {
    "scrolled": true
   },
   "outputs": [
    {
     "data": {
      "text/html": [
       "<div>\n",
       "<style>\n",
       "    .dataframe thead tr:only-child th {\n",
       "        text-align: right;\n",
       "    }\n",
       "\n",
       "    .dataframe thead th {\n",
       "        text-align: left;\n",
       "    }\n",
       "\n",
       "    .dataframe tbody tr th {\n",
       "        vertical-align: top;\n",
       "    }\n",
       "</style>\n",
       "<table border=\"1\" class=\"dataframe\">\n",
       "  <thead>\n",
       "    <tr style=\"text-align: right;\">\n",
       "      <th></th>\n",
       "      <th>instance_id</th>\n",
       "      <th>predicted_score</th>\n",
       "    </tr>\n",
       "  </thead>\n",
       "  <tbody>\n",
       "    <tr>\n",
       "      <th>0</th>\n",
       "      <td>2475218615076601065</td>\n",
       "      <td>0.007404</td>\n",
       "    </tr>\n",
       "    <tr>\n",
       "      <th>1</th>\n",
       "      <td>398316874173557226</td>\n",
       "      <td>0.021451</td>\n",
       "    </tr>\n",
       "    <tr>\n",
       "      <th>2</th>\n",
       "      <td>6586402638209028583</td>\n",
       "      <td>0.018573</td>\n",
       "    </tr>\n",
       "    <tr>\n",
       "      <th>3</th>\n",
       "      <td>1040996105851528465</td>\n",
       "      <td>0.022394</td>\n",
       "    </tr>\n",
       "    <tr>\n",
       "      <th>4</th>\n",
       "      <td>6316278569655873454</td>\n",
       "      <td>0.020663</td>\n",
       "    </tr>\n",
       "    <tr>\n",
       "      <th>5</th>\n",
       "      <td>868158305045921978</td>\n",
       "      <td>0.020491</td>\n",
       "    </tr>\n",
       "    <tr>\n",
       "      <th>6</th>\n",
       "      <td>5713520501786699854</td>\n",
       "      <td>0.013487</td>\n",
       "    </tr>\n",
       "    <tr>\n",
       "      <th>7</th>\n",
       "      <td>932945015407923184</td>\n",
       "      <td>0.008327</td>\n",
       "    </tr>\n",
       "    <tr>\n",
       "      <th>8</th>\n",
       "      <td>1919197847086752313</td>\n",
       "      <td>0.010393</td>\n",
       "    </tr>\n",
       "    <tr>\n",
       "      <th>9</th>\n",
       "      <td>304887065966615346</td>\n",
       "      <td>0.011244</td>\n",
       "    </tr>\n",
       "    <tr>\n",
       "      <th>10</th>\n",
       "      <td>3282556850371665</td>\n",
       "      <td>0.008986</td>\n",
       "    </tr>\n",
       "    <tr>\n",
       "      <th>11</th>\n",
       "      <td>8829646398295427742</td>\n",
       "      <td>0.015277</td>\n",
       "    </tr>\n",
       "    <tr>\n",
       "      <th>12</th>\n",
       "      <td>3177704368658581090</td>\n",
       "      <td>0.009569</td>\n",
       "    </tr>\n",
       "    <tr>\n",
       "      <th>13</th>\n",
       "      <td>331811904131229654</td>\n",
       "      <td>0.024447</td>\n",
       "    </tr>\n",
       "    <tr>\n",
       "      <th>14</th>\n",
       "      <td>1529584165704680903</td>\n",
       "      <td>0.020466</td>\n",
       "    </tr>\n",
       "    <tr>\n",
       "      <th>15</th>\n",
       "      <td>410957802501821801</td>\n",
       "      <td>0.026466</td>\n",
       "    </tr>\n",
       "    <tr>\n",
       "      <th>16</th>\n",
       "      <td>7858701120525579871</td>\n",
       "      <td>0.026039</td>\n",
       "    </tr>\n",
       "    <tr>\n",
       "      <th>17</th>\n",
       "      <td>1007593432911733192</td>\n",
       "      <td>0.032775</td>\n",
       "    </tr>\n",
       "    <tr>\n",
       "      <th>18</th>\n",
       "      <td>6933421324008829721</td>\n",
       "      <td>0.027284</td>\n",
       "    </tr>\n",
       "    <tr>\n",
       "      <th>19</th>\n",
       "      <td>949601458836318592</td>\n",
       "      <td>0.030764</td>\n",
       "    </tr>\n",
       "    <tr>\n",
       "      <th>20</th>\n",
       "      <td>1204371563787795352</td>\n",
       "      <td>0.027897</td>\n",
       "    </tr>\n",
       "    <tr>\n",
       "      <th>21</th>\n",
       "      <td>6697124581068234934</td>\n",
       "      <td>0.009134</td>\n",
       "    </tr>\n",
       "    <tr>\n",
       "      <th>22</th>\n",
       "      <td>7458626674337135052</td>\n",
       "      <td>0.006492</td>\n",
       "    </tr>\n",
       "    <tr>\n",
       "      <th>23</th>\n",
       "      <td>6451011837344535814</td>\n",
       "      <td>0.005567</td>\n",
       "    </tr>\n",
       "    <tr>\n",
       "      <th>24</th>\n",
       "      <td>4970342844069330588</td>\n",
       "      <td>0.005779</td>\n",
       "    </tr>\n",
       "    <tr>\n",
       "      <th>25</th>\n",
       "      <td>1311037283502827477</td>\n",
       "      <td>0.003606</td>\n",
       "    </tr>\n",
       "    <tr>\n",
       "      <th>26</th>\n",
       "      <td>5367830782177104937</td>\n",
       "      <td>0.008130</td>\n",
       "    </tr>\n",
       "    <tr>\n",
       "      <th>27</th>\n",
       "      <td>130085071580390177</td>\n",
       "      <td>0.004771</td>\n",
       "    </tr>\n",
       "    <tr>\n",
       "      <th>28</th>\n",
       "      <td>5277248246761080968</td>\n",
       "      <td>0.006065</td>\n",
       "    </tr>\n",
       "    <tr>\n",
       "      <th>29</th>\n",
       "      <td>8248237544078109435</td>\n",
       "      <td>0.008060</td>\n",
       "    </tr>\n",
       "    <tr>\n",
       "      <th>...</th>\n",
       "      <td>...</td>\n",
       "      <td>...</td>\n",
       "    </tr>\n",
       "    <tr>\n",
       "      <th>18341</th>\n",
       "      <td>6307702657719428200</td>\n",
       "      <td>0.010952</td>\n",
       "    </tr>\n",
       "    <tr>\n",
       "      <th>18342</th>\n",
       "      <td>9034943252763268300</td>\n",
       "      <td>0.013656</td>\n",
       "    </tr>\n",
       "    <tr>\n",
       "      <th>18343</th>\n",
       "      <td>7424500915900560254</td>\n",
       "      <td>0.013237</td>\n",
       "    </tr>\n",
       "    <tr>\n",
       "      <th>18344</th>\n",
       "      <td>1780351223674224578</td>\n",
       "      <td>0.013089</td>\n",
       "    </tr>\n",
       "    <tr>\n",
       "      <th>18345</th>\n",
       "      <td>2687746965037747411</td>\n",
       "      <td>0.012157</td>\n",
       "    </tr>\n",
       "    <tr>\n",
       "      <th>18346</th>\n",
       "      <td>1682944844186680588</td>\n",
       "      <td>0.011598</td>\n",
       "    </tr>\n",
       "    <tr>\n",
       "      <th>18347</th>\n",
       "      <td>573463664029912056</td>\n",
       "      <td>0.015975</td>\n",
       "    </tr>\n",
       "    <tr>\n",
       "      <th>18348</th>\n",
       "      <td>1876520637172632472</td>\n",
       "      <td>0.012996</td>\n",
       "    </tr>\n",
       "    <tr>\n",
       "      <th>18349</th>\n",
       "      <td>5212952446591466736</td>\n",
       "      <td>0.008826</td>\n",
       "    </tr>\n",
       "    <tr>\n",
       "      <th>18350</th>\n",
       "      <td>6721999567927514124</td>\n",
       "      <td>0.013126</td>\n",
       "    </tr>\n",
       "    <tr>\n",
       "      <th>18351</th>\n",
       "      <td>9099828709949113786</td>\n",
       "      <td>0.004629</td>\n",
       "    </tr>\n",
       "    <tr>\n",
       "      <th>18352</th>\n",
       "      <td>2869971643116990166</td>\n",
       "      <td>0.011795</td>\n",
       "    </tr>\n",
       "    <tr>\n",
       "      <th>18353</th>\n",
       "      <td>9905078821845005</td>\n",
       "      <td>0.011529</td>\n",
       "    </tr>\n",
       "    <tr>\n",
       "      <th>18354</th>\n",
       "      <td>2780349896508892570</td>\n",
       "      <td>0.025403</td>\n",
       "    </tr>\n",
       "    <tr>\n",
       "      <th>18355</th>\n",
       "      <td>386917396911175529</td>\n",
       "      <td>0.009575</td>\n",
       "    </tr>\n",
       "    <tr>\n",
       "      <th>18356</th>\n",
       "      <td>1531314888576311191</td>\n",
       "      <td>0.013680</td>\n",
       "    </tr>\n",
       "    <tr>\n",
       "      <th>18357</th>\n",
       "      <td>448057823895352888</td>\n",
       "      <td>0.011716</td>\n",
       "    </tr>\n",
       "    <tr>\n",
       "      <th>18358</th>\n",
       "      <td>5513085311457495517</td>\n",
       "      <td>0.010245</td>\n",
       "    </tr>\n",
       "    <tr>\n",
       "      <th>18359</th>\n",
       "      <td>5660000350153270793</td>\n",
       "      <td>0.018617</td>\n",
       "    </tr>\n",
       "    <tr>\n",
       "      <th>18360</th>\n",
       "      <td>7273836519562406981</td>\n",
       "      <td>0.016261</td>\n",
       "    </tr>\n",
       "    <tr>\n",
       "      <th>18361</th>\n",
       "      <td>2916193909730283463</td>\n",
       "      <td>0.011962</td>\n",
       "    </tr>\n",
       "    <tr>\n",
       "      <th>18362</th>\n",
       "      <td>9161335756218550796</td>\n",
       "      <td>0.011651</td>\n",
       "    </tr>\n",
       "    <tr>\n",
       "      <th>18363</th>\n",
       "      <td>5289288820294504479</td>\n",
       "      <td>0.018059</td>\n",
       "    </tr>\n",
       "    <tr>\n",
       "      <th>18364</th>\n",
       "      <td>7401528437843873561</td>\n",
       "      <td>0.011217</td>\n",
       "    </tr>\n",
       "    <tr>\n",
       "      <th>18365</th>\n",
       "      <td>2670064366569012998</td>\n",
       "      <td>0.009607</td>\n",
       "    </tr>\n",
       "    <tr>\n",
       "      <th>18366</th>\n",
       "      <td>196556205576680664</td>\n",
       "      <td>0.013263</td>\n",
       "    </tr>\n",
       "    <tr>\n",
       "      <th>18367</th>\n",
       "      <td>3972597272081581867</td>\n",
       "      <td>0.014725</td>\n",
       "    </tr>\n",
       "    <tr>\n",
       "      <th>18368</th>\n",
       "      <td>7331170863335915445</td>\n",
       "      <td>0.014430</td>\n",
       "    </tr>\n",
       "    <tr>\n",
       "      <th>18369</th>\n",
       "      <td>4801514605649495171</td>\n",
       "      <td>0.021035</td>\n",
       "    </tr>\n",
       "    <tr>\n",
       "      <th>18370</th>\n",
       "      <td>4931599763172137858</td>\n",
       "      <td>0.028163</td>\n",
       "    </tr>\n",
       "  </tbody>\n",
       "</table>\n",
       "<p>18371 rows × 2 columns</p>\n",
       "</div>"
      ],
      "text/plain": [
       "               instance_id  predicted_score\n",
       "0      2475218615076601065         0.007404\n",
       "1       398316874173557226         0.021451\n",
       "2      6586402638209028583         0.018573\n",
       "3      1040996105851528465         0.022394\n",
       "4      6316278569655873454         0.020663\n",
       "5       868158305045921978         0.020491\n",
       "6      5713520501786699854         0.013487\n",
       "7       932945015407923184         0.008327\n",
       "8      1919197847086752313         0.010393\n",
       "9       304887065966615346         0.011244\n",
       "10        3282556850371665         0.008986\n",
       "11     8829646398295427742         0.015277\n",
       "12     3177704368658581090         0.009569\n",
       "13      331811904131229654         0.024447\n",
       "14     1529584165704680903         0.020466\n",
       "15      410957802501821801         0.026466\n",
       "16     7858701120525579871         0.026039\n",
       "17     1007593432911733192         0.032775\n",
       "18     6933421324008829721         0.027284\n",
       "19      949601458836318592         0.030764\n",
       "20     1204371563787795352         0.027897\n",
       "21     6697124581068234934         0.009134\n",
       "22     7458626674337135052         0.006492\n",
       "23     6451011837344535814         0.005567\n",
       "24     4970342844069330588         0.005779\n",
       "25     1311037283502827477         0.003606\n",
       "26     5367830782177104937         0.008130\n",
       "27      130085071580390177         0.004771\n",
       "28     5277248246761080968         0.006065\n",
       "29     8248237544078109435         0.008060\n",
       "...                    ...              ...\n",
       "18341  6307702657719428200         0.010952\n",
       "18342  9034943252763268300         0.013656\n",
       "18343  7424500915900560254         0.013237\n",
       "18344  1780351223674224578         0.013089\n",
       "18345  2687746965037747411         0.012157\n",
       "18346  1682944844186680588         0.011598\n",
       "18347   573463664029912056         0.015975\n",
       "18348  1876520637172632472         0.012996\n",
       "18349  5212952446591466736         0.008826\n",
       "18350  6721999567927514124         0.013126\n",
       "18351  9099828709949113786         0.004629\n",
       "18352  2869971643116990166         0.011795\n",
       "18353     9905078821845005         0.011529\n",
       "18354  2780349896508892570         0.025403\n",
       "18355   386917396911175529         0.009575\n",
       "18356  1531314888576311191         0.013680\n",
       "18357   448057823895352888         0.011716\n",
       "18358  5513085311457495517         0.010245\n",
       "18359  5660000350153270793         0.018617\n",
       "18360  7273836519562406981         0.016261\n",
       "18361  2916193909730283463         0.011962\n",
       "18362  9161335756218550796         0.011651\n",
       "18363  5289288820294504479         0.018059\n",
       "18364  7401528437843873561         0.011217\n",
       "18365  2670064366569012998         0.009607\n",
       "18366   196556205576680664         0.013263\n",
       "18367  3972597272081581867         0.014725\n",
       "18368  7331170863335915445         0.014430\n",
       "18369  4801514605649495171         0.021035\n",
       "18370  4931599763172137858         0.028163\n",
       "\n",
       "[18371 rows x 2 columns]"
      ]
     },
     "execution_count": 193,
     "metadata": {},
     "output_type": "execute_result"
    }
   ],
   "source": [
    "submission_final"
   ]
  },
  {
   "cell_type": "code",
   "execution_count": null,
   "metadata": {},
   "outputs": [],
   "source": []
  }
 ],
 "metadata": {
  "kernelspec": {
   "display_name": "Python 3",
   "language": "python",
   "name": "python3"
  },
  "language_info": {
   "codemirror_mode": {
    "name": "ipython",
    "version": 3
   },
   "file_extension": ".py",
   "mimetype": "text/x-python",
   "name": "python",
   "nbconvert_exporter": "python",
   "pygments_lexer": "ipython3",
   "version": "3.6.3"
  }
 },
 "nbformat": 4,
 "nbformat_minor": 2
}
